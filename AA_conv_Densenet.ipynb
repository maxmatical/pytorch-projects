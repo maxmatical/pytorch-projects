{
  "nbformat": 4,
  "nbformat_minor": 0,
  "metadata": {
    "colab": {
      "name": "AA_conv Densenet.ipynb",
      "version": "0.3.2",
      "provenance": [],
      "toc_visible": true,
      "include_colab_link": true
    },
    "kernelspec": {
      "name": "python3",
      "display_name": "Python 3"
    },
    "accelerator": "GPU"
  },
  "cells": [
    {
      "cell_type": "markdown",
      "metadata": {
        "id": "view-in-github",
        "colab_type": "text"
      },
      "source": [
        "<a href=\"https://colab.research.google.com/github/maxmatical/pytorch-projects/blob/master/AA_conv_Densenet.ipynb\" target=\"_parent\"><img src=\"https://colab.research.google.com/assets/colab-badge.svg\" alt=\"Open In Colab\"/></a>"
      ]
    },
    {
      "metadata": {
        "id": "kohZOBbVF1x8",
        "colab_type": "text"
      },
      "cell_type": "markdown",
      "source": [
        "# Experimenting with replacing conv layers in Densenets with attention augmented conv layers"
      ]
    },
    {
      "metadata": {
        "id": "M105Gsq6FNKA",
        "colab_type": "code",
        "colab": {}
      },
      "cell_type": "code",
      "source": [
        "import torch\n",
        "import torch.nn as nn\n",
        "import torch.nn.init as init\n",
        "import torch.nn.functional as F\n",
        "import torchvision\n",
        "\n",
        "import torchvision.transforms as transforms\n",
        "\n",
        "\n",
        "import numpy as np\n",
        "import math\n",
        "\n",
        "from attention_augmented_convnets import augmented_conv2d\n",
        "\n",
        "use_cuda = torch.cuda.is_available()\n",
        "device = torch.device(\"cuda\" if use_cuda else \"cpu\")"
      ],
      "execution_count": 0,
      "outputs": []
    },
    {
      "metadata": {
        "id": "rCYa5XG3FmbE",
        "colab_type": "code",
        "colab": {}
      },
      "cell_type": "code",
      "source": [
        "class DenseBlock(nn.Module):\n",
        "    def __init__(self, in_channels, out_channels, dropout=0.2, stride = 1, v = 0.2, k = 2, Nh = 4):\n",
        "        super(DenseBlock, self).__init__()\n",
        "        self.bn1 = nn.BatchNorm2d(in_channels)\n",
        "        self.leaky_relu = nn.LeakyReLU(inplace=True)\n",
        "        #self.conv1 = nn.Conv2d(in_channels, 4*out_channels, 1, stride = 1, padding=0, bias=False) # old\n",
        "\n",
        "        self.conv1 = augmented_conv2d(in_channels, 4*out_channels, kernel_size = 1, stride = 1, padding = 0, dk = k* out_channels, dv = int(v*out_channels), Nh = Nh, relative = True)\n",
        "        self.bn2 = nn.BatchNorm2d(4*out_channels)\n",
        "        #self.conv2 = nn.Conv2d(4*out_channels, out_channels, 3, stride = 1, padding=1, bias = False) # old\n",
        "        self.conv2 = augmented_conv2d(4*out_channels, out_channels, kernel_size = 3, stride = 1, padding=1, dk = k* out_channels, dv = int(v*out_channels), Nh = Nh, relative = True)\n",
        "        self.dropout_prob = dropout\n",
        "        self.stride = stride\n",
        "        \n",
        "    def forward(self, input):\n",
        "        out = self.conv1(self.leaky_relu(self.bn1(input)))\n",
        "        out = F.dropout(out, p=self.dropout_prob, inplace=False, training = self.training)\n",
        "        out = self.conv2(self.leaky_relu(self.bn2(out)))\n",
        "        out = F.dropout(out, p=self.dropout_prob, inplace=False, training = self.training)\n",
        "        out = torch.cat([out,input],1)\n",
        "        return out"
      ],
      "execution_count": 0,
      "outputs": []
    },
    {
      "metadata": {
        "id": "cbp-tgBMG8Gy",
        "colab_type": "code",
        "colab": {}
      },
      "cell_type": "code",
      "source": [
        "class TransitionBlock(nn.Module):\n",
        "    def __init__(self, in_channels, out_channels, dropout=0.2, v = 0.2, k = 2, Nh = 4):\n",
        "        super(TransitionBlock, self).__init__()\n",
        "        self.bn1 = nn.BatchNorm2d(in_channels)\n",
        "        self.leaky_relu = nn.LeakyReLU(inplace=True)\n",
        "        # self.conv1 = nn.Conv2d(in_channels, out_channels, 1, stride = 1, padding=0, bias=False) # old\n",
        "        self.conv1 = augmented_conv2d(in_channels, out_channels, kernel_size = 1, stride = 1, padding=0, dk = k* out_channels, dv = int(v*out_channels), Nh = Nh, relative = True)\n",
        "        self.dropout_prob = dropout\n",
        "        self.avgpool = nn.AvgPool2d(2, stride = 2)\n",
        "        \n",
        "    def forward(self, input):\n",
        "        out = self.conv1(self.leaky_relu(self.bn1(input)))\n",
        "        out = F.dropout(out, p=self.dropout_prob, inplace=False, training = self.training)\n",
        "        out = self.avgpool(out)\n",
        "        return out"
      ],
      "execution_count": 0,
      "outputs": []
    },
    {
      "metadata": {
        "id": "0chNFlxcHyUv",
        "colab_type": "code",
        "colab": {}
      },
      "cell_type": "code",
      "source": [
        "# DenseNet\n",
        "growth_rate = 12 # growth rate\n",
        "compression_rate = 0.5 # theta\n",
        "class DenseNet(nn.Module):\n",
        "    def __init__(self, block, layers, n_classes, dropout =0.2,k=growth_rate, theta = compression_rate): # layer is a list\n",
        "        super(DenseNet, self).__init__()\n",
        "        \n",
        "        \n",
        "        # defining initial in_plane\n",
        "        in_channel = 2*k\n",
        "        \n",
        "        #self.layer = self.make_layer(block, in_channel, k, n_layers, dropout)\n",
        "\n",
        "        self.dropout = dropout\n",
        "        \n",
        "        # defining hyperparameters for the aa_conv\n",
        "        dv_v = 0.2\n",
        "        dk_k = 2\n",
        "        Nh = 4\n",
        "        \n",
        "\n",
        "        #initial conv layers\n",
        "        \"\"\"\n",
        "        Not using aa_conv. Not too sure how to properly donwsample with aa_conv layers\n",
        "        \n",
        "        \"\"\"\n",
        "        self.conv1 = nn.Conv2d(3, in_channel, 7, padding = 3, stride = 2) \n",
        "#         self.conv1 = augmented_conv2d(3, in_channel, kernel_size = 7, padding = 3, stride = 2, dk = dk_k*in_channel, dv=int(dv_v*in_channel), Nh = Nh, relative = True) #shoudl take 224 to 112\n",
        "        self.avgpool1 = nn.AvgPool2d(3, padding = 1, stride = 2)\n",
        "        \n",
        "        ####################\n",
        "        # making denseblocks\n",
        "        #####################\n",
        "        \n",
        "        self.layer1 = self.make_layer(block, in_channel, k, layers[0], dropout) #1st argument is num of dense blocks\n",
        "        in_channel = int(in_channel+layers[0]*k)\n",
        "        self.trans1 = TransitionBlock(in_channel, int(math.floor(in_channel*theta)), dropout)\n",
        "        in_channel = int(math.floor(in_channel*theta))\n",
        "        \n",
        "        self.layer2 = self.make_layer(block, in_channel, k, layers[1], dropout) #1st argument is num of dense blocks\n",
        "        in_channel = int(in_channel+layers[1]*k)\n",
        "        self.trans2 = TransitionBlock(in_channel, int(math.floor(in_channel*theta)), dropout)\n",
        "        in_channel = int(math.floor(in_channel*theta))\n",
        "\n",
        "        self.layer3 = self.make_layer(block,in_channel, k, layers[2], dropout) #1st argument is num of dense blocks\n",
        "        in_channel = int(in_channel+layers[2]*k)\n",
        "        self.trans3 = TransitionBlock(in_channel, int(math.floor(in_channel*theta)), dropout)\n",
        "        in_channel = int(math.floor(in_channel*theta))\n",
        "        \n",
        "        self.layer4 = self.make_layer(block, in_channel, k, layers[3], dropout) #1st argument is num of dense blocks\n",
        "        in_channel = int(in_channel+layers[3]*k)\n",
        "        \n",
        "        # pooling and classification\n",
        "        self.bn = nn.BatchNorm2d(in_channel)\n",
        "        self.leaky_relu = nn.LeakyReLU(inplace=True)\n",
        "        self.adaptive_avg_pool = nn.AdaptiveAvgPool2d(1)\n",
        "        self.adaptive_max_pool = nn.AdaptiveMaxPool2d(1)\n",
        "        self.linear = nn.Linear(in_channel*2, n_classes) \n",
        "        \n",
        "        \n",
        "        \n",
        "    def forward(self, input):\n",
        "        out = self.avgpool1(self.conv1(input))\n",
        "        out = self.layer1(out)\n",
        "        out = self.trans1(out)\n",
        "        out = self.trans2(self.layer2(out))\n",
        "        out = self.trans3(self.layer3(out))\n",
        "        out = self.leaky_relu(self.bn(self.layer4(out)))\n",
        "        \n",
        "        # take both adaptive avg pool and adaptive max pool and concat them together\n",
        "        out_a = self.adaptive_avg_pool(out)\n",
        "        out_a = out_a.view(out_a.size(0), -1) \n",
        "        out_b = self.adaptive_max_pool(out)\n",
        "        out_b = out_b.view(out_b.size(0), -1) \n",
        "        \n",
        "        out = torch.cat([out_a, out_b],1)\n",
        "        out = self.linear(out) # output layer\n",
        "\n",
        "        \n",
        "        return out\n",
        "        \n",
        "    #####################\n",
        "    # function for making layers\n",
        "    #####################\n",
        "    def make_layer(self, block, in_channel, k, n_layers, dropout):\n",
        "        layers = []\n",
        "        for i in range(n_layers):\n",
        "            layers.append(block(in_channel+i*k, k, dropout))\n",
        "        return nn.Sequential(*layers)\n",
        "\n",
        "        \n"
      ],
      "execution_count": 0,
      "outputs": []
    },
    {
      "metadata": {
        "id": "rVx-U8m6L-VZ",
        "colab_type": "code",
        "colab": {}
      },
      "cell_type": "code",
      "source": [
        "net = DenseNet(DenseBlock, layers = [1,1,1,1], n_classes = 10, dropout=0.2).to(device)\n"
      ],
      "execution_count": 0,
      "outputs": []
    },
    {
      "metadata": {
        "id": "fRfjv4Y-ck61",
        "colab_type": "text"
      },
      "cell_type": "markdown",
      "source": [
        ""
      ]
    },
    {
      "metadata": {
        "id": "WiCtT-LacplC",
        "colab_type": "code",
        "colab": {}
      },
      "cell_type": "code",
      "source": [
        "from torchsummary import summary\n",
        "\n",
        "summary(net, (3, 224, 224))\n"
      ],
      "execution_count": 0,
      "outputs": []
    },
    {
      "metadata": {
        "id": "DduXfq30dltV",
        "colab_type": "text"
      },
      "cell_type": "markdown",
      "source": [
        ""
      ]
    },
    {
      "metadata": {
        "id": "dap5c_qkdmEL",
        "colab_type": "code",
        "colab": {}
      },
      "cell_type": "code",
      "source": [
        "\n",
        "# tests\n",
        "T = TransitionBlock(3,3)\n",
        "# D = DenseBlock(3, 3)"
      ],
      "execution_count": 0,
      "outputs": []
    },
    {
      "metadata": {
        "id": "Wknn_QAma9fb",
        "colab_type": "code",
        "colab": {
          "base_uri": "https://localhost:8080/",
          "height": 1836
        },
        "outputId": "ba3280f5-120a-471a-fa78-d20ba459b777"
      },
      "cell_type": "code",
      "source": [
        "\n",
        "# weight initialization\n",
        "# new init weight        \n",
        "def init_weight(m):\n",
        "    if isinstance(m, nn.Conv2d):\n",
        "        nn.init.kaiming_normal_(m.weight) #he initialize, can use xavier instead\n",
        "        #nn.init.constant_(m.bias, 0.001) # optional bias\n",
        "    if isinstance(m, nn.Linear):\n",
        "        nn.init.kaiming_normal_(m.weight) #he initialize, can use xavier instead\n",
        "        #nn.init.constant_(m.bias, 0.001) # optional bias\n",
        "    elif type(m) == nn.BatchNorm2d:\n",
        "        torch.nn.init.constant_(m.weight, 1)\n",
        "        torch.nn.init.constant_(m.bias, 1)\n",
        "        \n",
        "# apply initializers\n",
        "net.apply(init_weight)"
      ],
      "execution_count": 6,
      "outputs": [
        {
          "output_type": "execute_result",
          "data": {
            "text/plain": [
              "DenseNet(\n",
              "  (conv1): Conv2d(3, 24, kernel_size=(7, 7), stride=(2, 2), padding=(3, 3))\n",
              "  (avgpool1): AvgPool2d(kernel_size=3, stride=2, padding=1)\n",
              "  (layer1): Sequential(\n",
              "    (0): DenseBlock(\n",
              "      (bn1): BatchNorm2d(24, eps=1e-05, momentum=0.1, affine=True, track_running_stats=True)\n",
              "      (leaky_relu): LeakyReLU(negative_slope=0.01, inplace)\n",
              "      (conv1): augmented_conv2d(\n",
              "        (conv_out): Conv2d(24, 46, kernel_size=(1, 1), stride=(1, 1), padding=(1, 1))\n",
              "        (qkv_conv): Conv2d(24, 50, kernel_size=(1, 1), stride=(1, 1), padding=(1, 1))\n",
              "        (attn_out): Conv2d(2, 2, kernel_size=(1, 1), stride=(1, 1))\n",
              "      )\n",
              "      (bn2): BatchNorm2d(48, eps=1e-05, momentum=0.1, affine=True, track_running_stats=True)\n",
              "      (conv2): augmented_conv2d(\n",
              "        (conv_out): Conv2d(48, 10, kernel_size=(3, 3), stride=(1, 1), padding=(1, 1))\n",
              "        (qkv_conv): Conv2d(48, 50, kernel_size=(3, 3), stride=(1, 1), padding=(1, 1))\n",
              "        (attn_out): Conv2d(2, 2, kernel_size=(1, 1), stride=(1, 1))\n",
              "      )\n",
              "    )\n",
              "  )\n",
              "  (trans1): TransitionBlock(\n",
              "    (bn1): BatchNorm2d(36, eps=1e-05, momentum=0.1, affine=True, track_running_stats=True)\n",
              "    (leaky_relu): LeakyReLU(negative_slope=0.01, inplace)\n",
              "    (conv1): augmented_conv2d(\n",
              "      (conv_out): Conv2d(36, 15, kernel_size=(1, 1), stride=(1, 1), padding=(1, 1))\n",
              "      (qkv_conv): Conv2d(36, 75, kernel_size=(1, 1), stride=(1, 1), padding=(1, 1))\n",
              "      (attn_out): Conv2d(3, 3, kernel_size=(1, 1), stride=(1, 1))\n",
              "    )\n",
              "    (avgpool): AvgPool2d(kernel_size=2, stride=2, padding=0)\n",
              "  )\n",
              "  (layer2): Sequential(\n",
              "    (0): DenseBlock(\n",
              "      (bn1): BatchNorm2d(18, eps=1e-05, momentum=0.1, affine=True, track_running_stats=True)\n",
              "      (leaky_relu): LeakyReLU(negative_slope=0.01, inplace)\n",
              "      (conv1): augmented_conv2d(\n",
              "        (conv_out): Conv2d(18, 46, kernel_size=(1, 1), stride=(1, 1), padding=(1, 1))\n",
              "        (qkv_conv): Conv2d(18, 50, kernel_size=(1, 1), stride=(1, 1), padding=(1, 1))\n",
              "        (attn_out): Conv2d(2, 2, kernel_size=(1, 1), stride=(1, 1))\n",
              "      )\n",
              "      (bn2): BatchNorm2d(48, eps=1e-05, momentum=0.1, affine=True, track_running_stats=True)\n",
              "      (conv2): augmented_conv2d(\n",
              "        (conv_out): Conv2d(48, 10, kernel_size=(3, 3), stride=(1, 1), padding=(1, 1))\n",
              "        (qkv_conv): Conv2d(48, 50, kernel_size=(3, 3), stride=(1, 1), padding=(1, 1))\n",
              "        (attn_out): Conv2d(2, 2, kernel_size=(1, 1), stride=(1, 1))\n",
              "      )\n",
              "    )\n",
              "  )\n",
              "  (trans2): TransitionBlock(\n",
              "    (bn1): BatchNorm2d(30, eps=1e-05, momentum=0.1, affine=True, track_running_stats=True)\n",
              "    (leaky_relu): LeakyReLU(negative_slope=0.01, inplace)\n",
              "    (conv1): augmented_conv2d(\n",
              "      (conv_out): Conv2d(30, 12, kernel_size=(1, 1), stride=(1, 1), padding=(1, 1))\n",
              "      (qkv_conv): Conv2d(30, 63, kernel_size=(1, 1), stride=(1, 1), padding=(1, 1))\n",
              "      (attn_out): Conv2d(3, 3, kernel_size=(1, 1), stride=(1, 1))\n",
              "    )\n",
              "    (avgpool): AvgPool2d(kernel_size=2, stride=2, padding=0)\n",
              "  )\n",
              "  (layer3): Sequential(\n",
              "    (0): DenseBlock(\n",
              "      (bn1): BatchNorm2d(15, eps=1e-05, momentum=0.1, affine=True, track_running_stats=True)\n",
              "      (leaky_relu): LeakyReLU(negative_slope=0.01, inplace)\n",
              "      (conv1): augmented_conv2d(\n",
              "        (conv_out): Conv2d(15, 46, kernel_size=(1, 1), stride=(1, 1), padding=(1, 1))\n",
              "        (qkv_conv): Conv2d(15, 50, kernel_size=(1, 1), stride=(1, 1), padding=(1, 1))\n",
              "        (attn_out): Conv2d(2, 2, kernel_size=(1, 1), stride=(1, 1))\n",
              "      )\n",
              "      (bn2): BatchNorm2d(48, eps=1e-05, momentum=0.1, affine=True, track_running_stats=True)\n",
              "      (conv2): augmented_conv2d(\n",
              "        (conv_out): Conv2d(48, 10, kernel_size=(3, 3), stride=(1, 1), padding=(1, 1))\n",
              "        (qkv_conv): Conv2d(48, 50, kernel_size=(3, 3), stride=(1, 1), padding=(1, 1))\n",
              "        (attn_out): Conv2d(2, 2, kernel_size=(1, 1), stride=(1, 1))\n",
              "      )\n",
              "    )\n",
              "  )\n",
              "  (trans3): TransitionBlock(\n",
              "    (bn1): BatchNorm2d(27, eps=1e-05, momentum=0.1, affine=True, track_running_stats=True)\n",
              "    (leaky_relu): LeakyReLU(negative_slope=0.01, inplace)\n",
              "    (conv1): augmented_conv2d(\n",
              "      (conv_out): Conv2d(27, 11, kernel_size=(1, 1), stride=(1, 1), padding=(1, 1))\n",
              "      (qkv_conv): Conv2d(27, 54, kernel_size=(1, 1), stride=(1, 1), padding=(1, 1))\n",
              "      (attn_out): Conv2d(2, 2, kernel_size=(1, 1), stride=(1, 1))\n",
              "    )\n",
              "    (avgpool): AvgPool2d(kernel_size=2, stride=2, padding=0)\n",
              "  )\n",
              "  (layer4): Sequential(\n",
              "    (0): DenseBlock(\n",
              "      (bn1): BatchNorm2d(13, eps=1e-05, momentum=0.1, affine=True, track_running_stats=True)\n",
              "      (leaky_relu): LeakyReLU(negative_slope=0.01, inplace)\n",
              "      (conv1): augmented_conv2d(\n",
              "        (conv_out): Conv2d(13, 46, kernel_size=(1, 1), stride=(1, 1), padding=(1, 1))\n",
              "        (qkv_conv): Conv2d(13, 50, kernel_size=(1, 1), stride=(1, 1), padding=(1, 1))\n",
              "        (attn_out): Conv2d(2, 2, kernel_size=(1, 1), stride=(1, 1))\n",
              "      )\n",
              "      (bn2): BatchNorm2d(48, eps=1e-05, momentum=0.1, affine=True, track_running_stats=True)\n",
              "      (conv2): augmented_conv2d(\n",
              "        (conv_out): Conv2d(48, 10, kernel_size=(3, 3), stride=(1, 1), padding=(1, 1))\n",
              "        (qkv_conv): Conv2d(48, 50, kernel_size=(3, 3), stride=(1, 1), padding=(1, 1))\n",
              "        (attn_out): Conv2d(2, 2, kernel_size=(1, 1), stride=(1, 1))\n",
              "      )\n",
              "    )\n",
              "  )\n",
              "  (bn): BatchNorm2d(25, eps=1e-05, momentum=0.1, affine=True, track_running_stats=True)\n",
              "  (leaky_relu): LeakyReLU(negative_slope=0.01, inplace)\n",
              "  (adaptive_avg_pool): AdaptiveAvgPool2d(output_size=1)\n",
              "  (adaptive_max_pool): AdaptiveMaxPool2d(output_size=1)\n",
              "  (linear): Linear(in_features=50, out_features=10, bias=True)\n",
              ")"
            ]
          },
          "metadata": {
            "tags": []
          },
          "execution_count": 6
        }
      ]
    },
    {
      "metadata": {
        "id": "3Bd4glDmbX1K",
        "colab_type": "text"
      },
      "cell_type": "markdown",
      "source": [
        "# Train on CIFAR10\n"
      ]
    },
    {
      "metadata": {
        "id": "fi4lzyAYas7t",
        "colab_type": "code",
        "colab": {
          "base_uri": "https://localhost:8080/",
          "height": 51
        },
        "outputId": "42e7caa3-176a-41c0-820a-1b8a3bc96341"
      },
      "cell_type": "code",
      "source": [
        "transform = transforms.Compose(\n",
        "    [transforms.ToTensor(),\n",
        "     transforms.Normalize((0.5, 0.5, 0.5), (0.5, 0.5, 0.5))])\n",
        "\n",
        "trainset = torchvision.datasets.CIFAR10(root='./data', train=True,\n",
        "                                        download=True, transform=transform)\n",
        "                                        \n",
        "                                        \n",
        "trainloader = torch.utils.data.DataLoader(trainset, batch_size=64,\n",
        "                                          shuffle=True, num_workers=2)\n",
        "\n",
        "testset = torchvision.datasets.CIFAR10(root='./data', train=False,\n",
        "                                       download=True, transform=transform)\n",
        "testloader = torch.utils.data.DataLoader(testset, batch_size=64,\n",
        "                                         shuffle=False, num_workers=2)"
      ],
      "execution_count": 7,
      "outputs": [
        {
          "output_type": "stream",
          "text": [
            "  0%|          | 0/170498071 [00:00<?, ?it/s]"
          ],
          "name": "stderr"
        },
        {
          "output_type": "stream",
          "text": [
            "Downloading https://www.cs.toronto.edu/~kriz/cifar-10-python.tar.gz to ./data/cifar-10-python.tar.gz\n"
          ],
          "name": "stdout"
        },
        {
          "output_type": "stream",
          "text": [
            "100%|█████████▉| 169951232/170498071 [00:18<00:00, 11475614.08it/s]"
          ],
          "name": "stderr"
        },
        {
          "output_type": "stream",
          "text": [
            "Files already downloaded and verified\n"
          ],
          "name": "stdout"
        }
      ]
    },
    {
      "metadata": {
        "id": "GEYqmayobdsh",
        "colab_type": "code",
        "colab": {}
      },
      "cell_type": "code",
      "source": [
        "\n",
        "# define loss and optimizer\n",
        "import torch.optim as optim\n",
        "learning_rate = 3e-4 # always a good starting point\n",
        "criterion = nn.CrossEntropyLoss()\n",
        "optimizer = optim.Adam(net.parameters(), lr = learning_rate)"
      ],
      "execution_count": 0,
      "outputs": []
    },
    {
      "metadata": {
        "id": "-UqjghzMcMKU",
        "colab_type": "code",
        "colab": {}
      },
      "cell_type": "code",
      "source": [
        "n_epochs = 10\n",
        "\n",
        "for epoch in range(n_epochs):\n",
        "    running_loss = 0.0\n",
        "    total_train_loss = 0.0\n",
        "    for i, train_data in enumerate(trainloader, 0):\n",
        "        # get the inputs\n",
        "        inputs, labels = train_data\n",
        "\n",
        "        # zero the parameter gradients\n",
        "        optimizer.zero_grad()\n",
        "\n",
        "        # forward + backward + optimize\n",
        "        outputs = net(inputs)\n",
        "        loss = criterion(outputs, labels)\n",
        "        loss.backward()\n",
        "        optimizer.step()\n",
        "\n",
        "        # print loss per n minibatches\n",
        "        running_loss += loss.item()\n",
        "        total_train_loss += loss.item()\n",
        "        if i % 500 == 499:    # print every 500 mini-batches\n",
        "            print('[%d, %5d] loss: %.3f' %\n",
        "                  (epoch + 1, i + 1, running_loss / 500))\n",
        "            running_loss = 0.0\n",
        "    \n",
        "    # keep track of loss in test dataset \n",
        "    correct = 0\n",
        "    total = 0\n",
        "    total_test_loss = 0.0\n",
        "    with torch.no_grad():\n",
        "        for test_data in testloader:\n",
        "            test_images, test_labels = test_data\n",
        "            test_outputs = net(test_images)\n",
        "            test_loss = criterion(test_outputs, test_labels)\n",
        "            total_test_loss += test_loss.item()\n",
        "            _, predicted = torch.max(test_outputs.data, 1)\n",
        "            total += test_labels.size(0)\n",
        "            correct += (predicted == test_labels).sum().item()\n",
        "\n",
        "\n",
        "    \n",
        "    \n",
        "    # for printing average loss every epoch\n",
        "    print(\"===> Epoch {} Complete: Train Avg. Loss: {:.4f}\".format(epoch+1, total_train_loss / len(trainloader)))\n",
        "    print(\"===> Epoch {} Complete: Test Avg. Loss: {:.4f}\".format(epoch+1, total_test_loss / len(testloader)))\n",
        "    print('Accuracy of the network on the 10000 test images: %d %%' % (100 * correct / total))\n",
        "print('Finished Training')"
      ],
      "execution_count": 0,
      "outputs": []
    },
    {
      "metadata": {
        "id": "fBXQuEB7caO4",
        "colab_type": "code",
        "colab": {}
      },
      "cell_type": "code",
      "source": [
        ""
      ],
      "execution_count": 0,
      "outputs": []
    }
  ]
}