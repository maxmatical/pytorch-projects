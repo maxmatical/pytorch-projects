{
 "cells": [
  {
   "cell_type": "code",
   "execution_count": null,
   "metadata": {},
   "outputs": [],
   "source": [
    "# loading and normalizing cifar10\n",
    "import torch\n",
    "import torchvision\n",
    "import torchvision.transforms as transforms\n",
    "import numpy as np\n",
    "\n",
    "import torch.nn as nn\n",
    "import torch.nn.functional as F\n",
    "\n",
    "from torchsummary import summary"
   ]
  },
  {
   "cell_type": "code",
   "execution_count": null,
   "metadata": {},
   "outputs": [],
   "source": [
    "\n",
    "transform = transforms.Compose(\n",
    "    [transforms.ToTensor(),\n",
    "     transforms.Normalize((0.5, 0.5, 0.5), (0.5, 0.5, 0.5))])\n"
   ]
  },
  {
   "cell_type": "code",
   "execution_count": null,
   "metadata": {},
   "outputs": [],
   "source": [
    "trainset = torchvision.datasets.CIFAR10(root='./data', train=True,\n",
    "                                        download=True, transform=transform)\n",
    "                                        \n",
    "                                        \n",
    "trainloader = torch.utils.data.DataLoader(trainset, batch_size=32,\n",
    "                                          shuffle=True, num_workers=2)\n",
    "\n",
    "testset = torchvision.datasets.CIFAR10(root='./data', train=False,\n",
    "                                       download=True, transform=transform)\n",
    "testloader = torch.utils.data.DataLoader(testset, batch_size=32,\n",
    "                                         shuffle=False, num_workers=2)\n",
    "\n",
    "classes = ('plane', 'car', 'bird', 'cat',\n",
    "           'deer', 'dog', 'frog', 'horse', 'ship', 'truck')"
   ]
  },
  {
   "cell_type": "code",
   "execution_count": null,
   "metadata": {},
   "outputs": [],
   "source": [
    "## creating a function that initializes weights\n",
    "def init_weight_conv(m):\n",
    "    if type(m) == nn.Conv2d:\n",
    "        torch.nn.init.kaiming_normal_(m.weight) #he initialize, can use xavier instead\n",
    "        m.bias.data.fill_(0.001) # optional bias\n",
    "        \n",
    "def init_weight_linear(m):\n",
    "    if type(m) == nn.Linear:\n",
    "        torch.nn.init.kaiming_normal_(m.weight)\n",
    "        m.bias.data.fill_(0.001)\n",
    "    "
   ]
  },
  {
   "cell_type": "code",
   "execution_count": null,
   "metadata": {},
   "outputs": [],
   "source": [
    "# inception style module\n",
    "class convnet(nn.Module):\n",
    "    def __init__(self):\n",
    "        super(convnet, self).__init__()\n",
    "        self.conv_3x3 = nn.Sequential(\n",
    "            nn.Conv2d(3, 8, 1, padding = 0),\n",
    "            nn.BatchNorm2d(8, eps=0.001), # outchannels match previous conv layer\n",
    "            nn.ReLU(),\n",
    "            nn.Conv2d(8, 8, 3, padding = 1),\n",
    "            nn.BatchNorm2d(8, eps=0.001),\n",
    "            nn.ReLU()\n",
    "        )\n",
    "        self.conv_5x5 = nn.Sequential(\n",
    "            nn.Conv2d(3, 8, 1, padding = 0),\n",
    "            nn.BatchNorm2d(8, eps=0.001),\n",
    "            nn.ReLU(),\n",
    "            nn.Conv2d(8, 8, 5, padding = 2),\n",
    "            nn.BatchNorm2d(8, eps=0.001),\n",
    "            nn.ReLU()\n",
    "        )\n",
    "        self.max_pool_conv_1x1 = nn.Sequential(\n",
    "            nn.MaxPool2d(3, stride = 1, padding=1), # window size 3x3, stride and padding = 1 to ensure dimensionality matches\n",
    "            nn.Conv2d(3, 8, 1, padding = 0),\n",
    "            nn.BatchNorm2d(8, eps=0.001),\n",
    "            nn.ReLU()\n",
    "        )\n",
    "        self.conv_1x1 = nn.Sequential(\n",
    "            nn.Conv2d(3, 8, 1, padding = 0),\n",
    "            nn.BatchNorm2d(8, eps=0.001),\n",
    "            nn.ReLU()\n",
    "        )\n",
    "        self.fc1 = nn.Linear(8192, 10) \n",
    "        #self.dropout = nn.Dropout(0.5)\n",
    "        #self.fc2 = nn.Linear(32, 10)\n",
    "        \n",
    "    def forward(self, x):\n",
    "        x1 = self.conv_1x1(x)\n",
    "        x2 = self.conv_3x3(x)\n",
    "        x3 = self.conv_5x5(x)\n",
    "        x4 = self.max_pool_conv_1x1(x)\n",
    "        x = torch.cat([x1,x2,x3,x4], 1) # concatenate all layers\n",
    "        x = F.avg_pool2d(x, stride = 2, kernel_size= 2)\n",
    "        x = x.view(x.size(0), -1) # flatten\n",
    "        x = self.fc1(x)\n",
    "        #x = self.dropout(x)\n",
    "        #x = self.fc2(x)\n",
    "        return x\n",
    "        \n",
    "net = convnet()\n",
    "            \n",
    "            \n",
    "\n",
    "            "
   ]
  },
  {
   "cell_type": "code",
   "execution_count": null,
   "metadata": {},
   "outputs": [],
   "source": [
    "# visualize network\n",
    "#for i, weights in enumerate(list(net.parameters())):\n",
    "#    print('i:',i,'weights:',weights.size())\n",
    "\n",
    "#print(net)\n",
    "\n",
    "\n",
    "summary(net, (3, 32, 32))\n"
   ]
  },
  {
   "cell_type": "code",
   "execution_count": null,
   "metadata": {},
   "outputs": [],
   "source": [
    "# apply initializers\n",
    "net.apply(init_weight_conv)\n",
    "net.apply(init_weight_linear)"
   ]
  },
  {
   "cell_type": "code",
   "execution_count": null,
   "metadata": {},
   "outputs": [],
   "source": [
    "# define loss and optimizer\n",
    "import torch.optim as optim\n",
    "learning_rate = 0.001\n",
    "criterion = nn.CrossEntropyLoss()\n",
    "optimizer = optim.Adam(net.parameters(), lr=learning_rate) #net.parameters"
   ]
  },
  {
   "cell_type": "code",
   "execution_count": null,
   "metadata": {},
   "outputs": [],
   "source": []
  },
  {
   "cell_type": "code",
   "execution_count": null,
   "metadata": {},
   "outputs": [],
   "source": [
    "# modified model training to keep track of train/val loss\n",
    "n_epochs = 2\n",
    "\n",
    "for epoch in range(n_epochs):\n",
    "    running_loss = 0.0\n",
    "    for i, train_data in enumerate(trainloader, 0):\n",
    "        # get the inputs\n",
    "        inputs, labels = train_data\n",
    "\n",
    "        # zero the parameter gradients\n",
    "        optimizer.zero_grad()\n",
    "\n",
    "        # forward + backward + optimize\n",
    "        outputs = net(inputs)\n",
    "        loss = criterion(outputs, labels)\n",
    "        loss.backward()\n",
    "        optimizer.step()\n",
    "\n",
    "        # print loss per n minibatches\n",
    "        running_loss += loss.item()\n",
    "        if i % 50 == 49:    # print every 50 mini-batches\n",
    "            print('[%d, %5d] loss: %.3f' %\n",
    "                  (epoch + 1, i + 1, running_loss / 50))\n",
    "            running_loss = 0.0\n",
    "    \n",
    "    # keep track of loss in test dataset \n",
    "    correct = 0\n",
    "    total = 0\n",
    "    running_test_loss = 0.0\n",
    "    with torch.no_grad():\n",
    "        for test_data in testloader:\n",
    "            test_images, test_labels = test_data\n",
    "            test_outputs = net(test_images)\n",
    "            test_loss = criterion(test_outputs, test_labels)\n",
    "            running_test_loss += test_loss.item()\n",
    "            _, predicted = torch.max(test_outputs.data, 1)\n",
    "            total += test_labels.size(0)\n",
    "            correct += (predicted == test_labels).sum().item()\n",
    "\n",
    "\n",
    "    \n",
    "    \n",
    "    # for printing average loss every epoch\n",
    "    print(\"===> Epoch {} Complete: Train Avg. Loss: {:.4f}\".format(epoch+1, running_loss / len(trainloader)))\n",
    "    print(\"===> Epoch {} Complete: Test Avg. Loss: {:.4f}\".format(epoch+1, running_test_loss / len(testloader)))\n",
    "    print('Accuracy of the network on the 10000 test images: %d %%' % (100 * correct / total))\n",
    "print('Finished Training')"
   ]
  },
  {
   "cell_type": "code",
   "execution_count": null,
   "metadata": {},
   "outputs": [],
   "source": []
  }
 ],
 "metadata": {
  "kernelspec": {
   "display_name": "Python 3",
   "language": "python",
   "name": "python3"
  },
  "language_info": {
   "codemirror_mode": {
    "name": "ipython",
    "version": 3
   },
   "file_extension": ".py",
   "mimetype": "text/x-python",
   "name": "python",
   "nbconvert_exporter": "python",
   "pygments_lexer": "ipython3",
   "version": "3.6.5"
  }
 },
 "nbformat": 4,
 "nbformat_minor": 2
}
