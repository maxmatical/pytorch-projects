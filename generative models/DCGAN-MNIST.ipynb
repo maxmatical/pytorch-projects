{
 "cells": [
  {
   "cell_type": "code",
   "execution_count": 1,
   "metadata": {},
   "outputs": [
    {
     "name": "stdout",
     "output_type": "stream",
     "text": [
      "0.4.1\n"
     ]
    }
   ],
   "source": [
    "import torch\n",
    "print(torch.__version__)"
   ]
  },
  {
   "cell_type": "code",
   "execution_count": 2,
   "metadata": {},
   "outputs": [],
   "source": [
    "import os\n",
    "import torch\n",
    "import torchvision\n",
    "import torch.nn as nn\n",
    "import torch.nn.functional as F\n",
    "from torchvision import transforms\n",
    "from torchvision.utils import save_image\n",
    "\n",
    "\n",
    "from torchsummary import summary"
   ]
  },
  {
   "cell_type": "code",
   "execution_count": 3,
   "metadata": {},
   "outputs": [],
   "source": [
    "# create directory\n",
    "\n",
    "sample_dir = 'samples'\n",
    "if not os.path.exists(sample_dir):\n",
    "    os.makedirs(sample_dir)"
   ]
  },
  {
   "cell_type": "code",
   "execution_count": 4,
   "metadata": {},
   "outputs": [],
   "source": [
    "# loading and preprocessing MNIST\n",
    "#batchsize is 128 from paper\n",
    "bs = 128\n",
    "img_size = 64 # scale up imgs\n",
    "\n",
    "transform = transforms.Compose([\n",
    "                transforms.Resize(img_size),\n",
    "                transforms.ToTensor(),\n",
    "                transforms.Normalize(mean=(0.5, 0.5, 0.5),   # 3 for RGB channels\n",
    "                                     std=(0.5, 0.5, 0.5))])\n",
    "\n",
    "# MNIST dataset\n",
    "mnist = torchvision.datasets.MNIST(root='../../data/',\n",
    "                                   train=True,\n",
    "                                   transform=transform,\n",
    "                                   download=True)\n",
    "\n",
    "# Data loader\n",
    "data_loader = torch.utils.data.DataLoader(dataset=mnist,\n",
    "                                          batch_size=bs, \n",
    "                                          shuffle=True)"
   ]
  },
  {
   "cell_type": "code",
   "execution_count": 5,
   "metadata": {},
   "outputs": [],
   "source": [
    "\n",
    "#Discriminator\n",
    "class discriminator(nn.Module):\n",
    "    def __init__(self, bs):\n",
    "        super(discriminator, self).__init__()\n",
    "        self.bs = bs\n",
    "        self.conv1 = nn.Conv2d(1, bs, 4, stride=2, padding = 1) # no bn after conv1, input dim is 1\n",
    "        self.conv2 = nn.Conv2d(bs, bs*2, 4, stride = 2, padding = 1)\n",
    "        self.bn2 = nn.BatchNorm2d(bs*2) #256 channels\n",
    "        self.conv3 = nn.Conv2d(bs*2, bs*4, 4, stride = 2, padding = 1)\n",
    "        self.bn3 = nn.BatchNorm2d(bs*4) #512 channels\n",
    "        self.conv4 = nn.Conv2d(bs*4, bs*8, 4, stride = 2, padding = 1)\n",
    "        self.bn4 = nn.BatchNorm2d(bs*8) #1024 channels\n",
    "        self.conv5 =  nn.Conv2d(bs*8, 1, 4, stride = 1, padding = 0)\n",
    "        self.leaky_relu = nn.LeakyReLU(negative_slope=0.2, inplace=True)\n",
    "        self.sigmoid = nn.Sigmoid()\n",
    "    \n",
    "    def forward(self, input):\n",
    "        out = self.leaky_relu(self.conv1(input))\n",
    "        out = self.leaky_relu(self.bn2(self.conv2(out)))\n",
    "        out = self.leaky_relu(self.bn3(self.conv3(out)))\n",
    "        out = self.leaky_relu(self.bn4(self.conv4(out)))\n",
    "        out = self.sigmoid(self.conv5(out))\n",
    "    \n",
    "        return out\n",
    "    \n",
    "D = discriminator(bs)\n",
    "        \n",
    "# Generator\n",
    "class generator(nn.Module):\n",
    "    def __init__(self, bs):\n",
    "        super(generator, self).__init__()\n",
    "        self.bs = bs\n",
    "        self.deconv1 = nn.ConvTranspose2d(100, bs*8, 4, stride = 1, padding = 0) # 100 in, 1024 outchannels\n",
    "        self.bn1 = nn.BatchNorm2d(bs*8) #1024 channels\n",
    "        self.deconv2 = nn.ConvTranspose2d(bs*8, bs*4, 4, stride = 2, padding = 1)\n",
    "        self.bn2 = nn.BatchNorm2d(bs*4) \n",
    "        self.deconv3 = nn.ConvTranspose2d(bs*4, bs*2, 4, stride = 2, padding = 1)\n",
    "        self.bn3 = nn.BatchNorm2d(bs*2) \n",
    "        self.deconv4 = nn.ConvTranspose2d(bs*2, bs, 4, stride = 2, padding = 1)\n",
    "        self.bn4 = nn.BatchNorm2d(bs) \n",
    "        self.deconv5 = nn.ConvTranspose2d(bs, 1, 4, stride=2, padding = 1)\n",
    "        self.relu = nn.ReLU(inplace=True)\n",
    "        self.tanh = nn.Tanh()\n",
    "    def forward(self, input):\n",
    "        out = self.relu(self.bn1(self.deconv1(input)))\n",
    "        out = self.relu(self.bn2(self.deconv2(out)))\n",
    "        out = self.relu(self.bn3(self.deconv3(out)))\n",
    "        out = self.relu(self.bn4(self.deconv4(out)))\n",
    "        out = self.tanh(self.deconv5(out))\n",
    "        return out\n",
    "G = generator(bs)\n"
   ]
  },
  {
   "cell_type": "code",
   "execution_count": 6,
   "metadata": {},
   "outputs": [],
   "source": [
    "# initialization for the networks\n",
    "def init_weight(m):\n",
    "    if isinstance(m, nn.Conv2d):\n",
    "        nn.init.normal_(m.weight, mean=0, std=0.02)\n",
    "    elif isinstance(m, nn.ConvTranspose2d):\n",
    "        nn.init.normal_(m.weight, mean=0, std=0.02)\n",
    "    elif type(m) == nn.BatchNorm2d:\n",
    "        torch.nn.init.constant_(m.weight, 1)\n",
    "        torch.nn.init.constant_(m.bias, 1)\n"
   ]
  },
  {
   "cell_type": "code",
   "execution_count": 7,
   "metadata": {},
   "outputs": [
    {
     "data": {
      "text/plain": [
       "discriminator(\n",
       "  (conv1): Conv2d(1, 128, kernel_size=(4, 4), stride=(2, 2), padding=(1, 1))\n",
       "  (conv2): Conv2d(128, 256, kernel_size=(4, 4), stride=(2, 2), padding=(1, 1))\n",
       "  (bn2): BatchNorm2d(256, eps=1e-05, momentum=0.1, affine=True, track_running_stats=True)\n",
       "  (conv3): Conv2d(256, 512, kernel_size=(4, 4), stride=(2, 2), padding=(1, 1))\n",
       "  (bn3): BatchNorm2d(512, eps=1e-05, momentum=0.1, affine=True, track_running_stats=True)\n",
       "  (conv4): Conv2d(512, 1024, kernel_size=(4, 4), stride=(2, 2), padding=(1, 1))\n",
       "  (bn4): BatchNorm2d(1024, eps=1e-05, momentum=0.1, affine=True, track_running_stats=True)\n",
       "  (conv5): Conv2d(1024, 1, kernel_size=(4, 4), stride=(1, 1))\n",
       "  (leaky_relu): LeakyReLU(negative_slope=0.2, inplace)\n",
       "  (sigmoid): Sigmoid()\n",
       ")"
      ]
     },
     "execution_count": 7,
     "metadata": {},
     "output_type": "execute_result"
    }
   ],
   "source": [
    "# apply initializer\n",
    "\n",
    "G.apply(init_weight)\n",
    "D.apply(init_weight)"
   ]
  },
  {
   "cell_type": "code",
   "execution_count": 8,
   "metadata": {},
   "outputs": [
    {
     "name": "stdout",
     "output_type": "stream",
     "text": [
      "----------------------------------------------------------------\n",
      "        Layer (type)               Output Shape         Param #\n",
      "================================================================\n",
      "            Conv2d-1          [-1, 128, 32, 32]           2,176\n",
      "         LeakyReLU-2          [-1, 128, 32, 32]               0\n",
      "            Conv2d-3          [-1, 256, 16, 16]         524,544\n",
      "       BatchNorm2d-4          [-1, 256, 16, 16]             512\n",
      "         LeakyReLU-5          [-1, 256, 16, 16]               0\n",
      "            Conv2d-6            [-1, 512, 8, 8]       2,097,664\n",
      "       BatchNorm2d-7            [-1, 512, 8, 8]           1,024\n",
      "         LeakyReLU-8            [-1, 512, 8, 8]               0\n",
      "            Conv2d-9           [-1, 1024, 4, 4]       8,389,632\n",
      "      BatchNorm2d-10           [-1, 1024, 4, 4]           2,048\n",
      "        LeakyReLU-11           [-1, 1024, 4, 4]               0\n",
      "           Conv2d-12              [-1, 1, 1, 1]          16,385\n",
      "          Sigmoid-13              [-1, 1, 1, 1]               0\n",
      "================================================================\n",
      "Total params: 11,033,985\n",
      "Trainable params: 11,033,985\n",
      "Non-trainable params: 0\n",
      "----------------------------------------------------------------\n"
     ]
    }
   ],
   "source": [
    "#summary of networks\n",
    "#summary(G, (100))\n",
    "summary(D, (1, 64, 64))"
   ]
  },
  {
   "cell_type": "code",
   "execution_count": 9,
   "metadata": {},
   "outputs": [],
   "source": [
    "# define loss and optimizers\n",
    "criterion = nn.BCELoss()\n",
    "d_opt = torch.optim.Adam(D.parameters(), lr = 0.0002, betas=(0.5, 0.999))\n",
    "g_opt = torch.optim.Adam(G.parameters(), lr = 0.0002, betas=(0.5, 0.999))"
   ]
  },
  {
   "cell_type": "code",
   "execution_count": 10,
   "metadata": {},
   "outputs": [],
   "source": [
    "# denorm for plotting\n",
    "def denorm(x):\n",
    "    out = (x + 1) / 2\n",
    "    return out.clamp(0, 1)\n"
   ]
  },
  {
   "cell_type": "code",
   "execution_count": 16,
   "metadata": {},
   "outputs": [
    {
     "ename": "KeyboardInterrupt",
     "evalue": "",
     "output_type": "error",
     "traceback": [
      "\u001b[0;31m---------------------------------------------------------------------------\u001b[0m",
      "\u001b[0;31mKeyboardInterrupt\u001b[0m                         Traceback (most recent call last)",
      "\u001b[0;32m<ipython-input-16-53aa1dbb4330>\u001b[0m in \u001b[0;36m<module>\u001b[0;34m()\u001b[0m\n\u001b[1;32m     34\u001b[0m         \u001b[0mtotal_loss\u001b[0m \u001b[0;34m=\u001b[0m \u001b[0md_loss_real\u001b[0m \u001b[0;34m+\u001b[0m \u001b[0md_loss_fake\u001b[0m\u001b[0;34m\u001b[0m\u001b[0m\n\u001b[1;32m     35\u001b[0m \u001b[0;34m\u001b[0m\u001b[0m\n\u001b[0;32m---> 36\u001b[0;31m         \u001b[0mtotal_loss\u001b[0m\u001b[0;34m.\u001b[0m\u001b[0mbackward\u001b[0m\u001b[0;34m(\u001b[0m\u001b[0;34m)\u001b[0m\u001b[0;34m\u001b[0m\u001b[0m\n\u001b[0m\u001b[1;32m     37\u001b[0m         \u001b[0md_opt\u001b[0m\u001b[0;34m.\u001b[0m\u001b[0mstep\u001b[0m\u001b[0;34m(\u001b[0m\u001b[0;34m)\u001b[0m\u001b[0;34m\u001b[0m\u001b[0m\n\u001b[1;32m     38\u001b[0m \u001b[0;34m\u001b[0m\u001b[0m\n",
      "\u001b[0;32m~/anaconda3/lib/python3.6/site-packages/torch/tensor.py\u001b[0m in \u001b[0;36mbackward\u001b[0;34m(self, gradient, retain_graph, create_graph)\u001b[0m\n\u001b[1;32m     91\u001b[0m                 \u001b[0mproducts\u001b[0m\u001b[0;34m.\u001b[0m \u001b[0mDefaults\u001b[0m \u001b[0mto\u001b[0m\u001b[0;31m \u001b[0m\u001b[0;31m`\u001b[0m\u001b[0;31m`\u001b[0m\u001b[0;32mFalse\u001b[0m\u001b[0;31m`\u001b[0m\u001b[0;31m`\u001b[0m\u001b[0;34m.\u001b[0m\u001b[0;34m\u001b[0m\u001b[0m\n\u001b[1;32m     92\u001b[0m         \"\"\"\n\u001b[0;32m---> 93\u001b[0;31m         \u001b[0mtorch\u001b[0m\u001b[0;34m.\u001b[0m\u001b[0mautograd\u001b[0m\u001b[0;34m.\u001b[0m\u001b[0mbackward\u001b[0m\u001b[0;34m(\u001b[0m\u001b[0mself\u001b[0m\u001b[0;34m,\u001b[0m \u001b[0mgradient\u001b[0m\u001b[0;34m,\u001b[0m \u001b[0mretain_graph\u001b[0m\u001b[0;34m,\u001b[0m \u001b[0mcreate_graph\u001b[0m\u001b[0;34m)\u001b[0m\u001b[0;34m\u001b[0m\u001b[0m\n\u001b[0m\u001b[1;32m     94\u001b[0m \u001b[0;34m\u001b[0m\u001b[0m\n\u001b[1;32m     95\u001b[0m     \u001b[0;32mdef\u001b[0m \u001b[0mregister_hook\u001b[0m\u001b[0;34m(\u001b[0m\u001b[0mself\u001b[0m\u001b[0;34m,\u001b[0m \u001b[0mhook\u001b[0m\u001b[0;34m)\u001b[0m\u001b[0;34m:\u001b[0m\u001b[0;34m\u001b[0m\u001b[0m\n",
      "\u001b[0;32m~/anaconda3/lib/python3.6/site-packages/torch/autograd/__init__.py\u001b[0m in \u001b[0;36mbackward\u001b[0;34m(tensors, grad_tensors, retain_graph, create_graph, grad_variables)\u001b[0m\n\u001b[1;32m     88\u001b[0m     Variable._execution_engine.run_backward(\n\u001b[1;32m     89\u001b[0m         \u001b[0mtensors\u001b[0m\u001b[0;34m,\u001b[0m \u001b[0mgrad_tensors\u001b[0m\u001b[0;34m,\u001b[0m \u001b[0mretain_graph\u001b[0m\u001b[0;34m,\u001b[0m \u001b[0mcreate_graph\u001b[0m\u001b[0;34m,\u001b[0m\u001b[0;34m\u001b[0m\u001b[0m\n\u001b[0;32m---> 90\u001b[0;31m         allow_unreachable=True)  # allow_unreachable flag\n\u001b[0m\u001b[1;32m     91\u001b[0m \u001b[0;34m\u001b[0m\u001b[0m\n\u001b[1;32m     92\u001b[0m \u001b[0;34m\u001b[0m\u001b[0m\n",
      "\u001b[0;31mKeyboardInterrupt\u001b[0m: "
     ]
    }
   ],
   "source": [
    "# training\n",
    "n_epochs = 20\n",
    "total_step = len(data_loader)\n",
    "for epoch in range(n_epochs):\n",
    "    for i, (images, _) in enumerate(data_loader):\n",
    "        \n",
    "        #create labels (1 for real img, 0 for fake img)\n",
    "        \n",
    "        real_labels = torch.ones(bs).view(-1,1,1,1) \n",
    "        fake_labels = torch.zeros(bs).view(-1,1,1,1)\n",
    "\n",
    "        \n",
    "        \n",
    "        ########################\n",
    "        # training discrimiator\n",
    "        ########################\n",
    "        \n",
    "        # zeroing gradientsy\n",
    "        d_opt.zero_grad()\n",
    "        \n",
    "        # loss for real images\n",
    "        outputs = D(images).view(-1,1,1,1)\n",
    "        d_loss_real = criterion(outputs, real_labels)\n",
    "        real_score = outputs\n",
    "        \n",
    "        # loss for fake images\n",
    "        z = torch.randn(bs, 100).view(-1, 100, 1,1) # 100 is input channels for G\n",
    "        fake_img = G(z)\n",
    "        outputs = D(fake_img).view(-1,1,1,1)\n",
    "        d_loss_fake = criterion(outputs, fake_labels)\n",
    "        fake_score = outputs\n",
    "        \n",
    "        # total loss\n",
    "        total_loss = d_loss_real + d_loss_fake\n",
    "\n",
    "        total_loss.backward()\n",
    "        d_opt.step()\n",
    "        \n",
    "        ########################\n",
    "        # training generator\n",
    "        ########################\n",
    "        # zeroing gradients\n",
    "        g_opt.zero_grad()\n",
    "        \n",
    "        # generating fake imgs \n",
    "        z = torch.randn(bs, 100).view(-1, 100, 1, 1)\n",
    "        fake_img = G(z)\n",
    "        outputs = D(fake_img).view(-1,1,1,1)\n",
    "        \n",
    "        # loss for generator\n",
    "        g_loss = criterion(outputs, real_labels)\n",
    "        g_loss.backward()\n",
    "        g_opt.step()\n",
    "        \n",
    "        if (i+5) % 100 == 0:\n",
    "            print('Epoch [{}/{}], Step [{}/{}], d_loss: {:.4f}, g_loss: {:.4f}, D(x): {:.2f}, D(G(z)): {:.2f}' \n",
    "                  .format(epoch+1, n_epochs, i+1, total_step, total_loss.item(), g_loss.item(), \n",
    "                          real_score.mean().item(), fake_score.mean().item()))\n",
    "\n",
    "\n",
    "# # Save the model checkpoints \n",
    "# #torch.save(G.state_dict(), 'G.ckpt')\n",
    "# #torch.save(D.state_dict(), 'D.ckpt')\n"
   ]
  },
  {
   "cell_type": "raw",
   "metadata": {},
   "source": [
    "trained for 20 epochs"
   ]
  },
  {
   "cell_type": "code",
   "execution_count": 18,
   "metadata": {},
   "outputs": [],
   "source": [
    "# plotting imgs \n",
    "fake_img = fake_img.reshape(fake_img.size(0), 1, 28, 28)\n",
    "save_image(denorm(fake_img), os.path.join(sample_dir, 'DCGAN_fake_images.png'.format(epoch+1))) # change epoch number\n"
   ]
  },
  {
   "cell_type": "code",
   "execution_count": null,
   "metadata": {},
   "outputs": [],
   "source": []
  },
  {
   "cell_type": "code",
   "execution_count": null,
   "metadata": {},
   "outputs": [],
   "source": []
  }
 ],
 "metadata": {
  "kernelspec": {
   "display_name": "Python 3",
   "language": "python",
   "name": "python3"
  },
  "language_info": {
   "codemirror_mode": {
    "name": "ipython",
    "version": 3
   },
   "file_extension": ".py",
   "mimetype": "text/x-python",
   "name": "python",
   "nbconvert_exporter": "python",
   "pygments_lexer": "ipython3",
   "version": "3.6.5"
  }
 },
 "nbformat": 4,
 "nbformat_minor": 2
}
