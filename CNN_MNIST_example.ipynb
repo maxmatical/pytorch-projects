{
  "nbformat": 4,
  "nbformat_minor": 0,
  "metadata": {
    "colab": {
      "name": "CNN MNIST example.ipynb",
      "provenance": [],
      "collapsed_sections": [],
      "toc_visible": true,
      "include_colab_link": true
    },
    "kernelspec": {
      "name": "python3",
      "display_name": "Python 3"
    },
    "accelerator": "GPU"
  },
  "cells": [
    {
      "cell_type": "markdown",
      "metadata": {
        "id": "view-in-github",
        "colab_type": "text"
      },
      "source": [
        "<a href=\"https://colab.research.google.com/github/maxmatical/pytorch-projects/blob/master/CNN_MNIST_example.ipynb\" target=\"_parent\"><img src=\"https://colab.research.google.com/assets/colab-badge.svg\" alt=\"Open In Colab\"/></a>"
      ]
    },
    {
      "cell_type": "code",
      "metadata": {
        "id": "JRA2WgtMQYo9",
        "colab_type": "code",
        "colab": {}
      },
      "source": [
        "%%capture\n",
        "!pip install git+https://github.com/fastai/fastai.git"
      ],
      "execution_count": 0,
      "outputs": []
    },
    {
      "cell_type": "code",
      "metadata": {
        "id": "J5_6QxmeQkJJ",
        "colab_type": "code",
        "outputId": "d0b594ed-e1a7-4814-db1f-48caa35a293b",
        "colab": {
          "base_uri": "https://localhost:8080/",
          "height": 52
        }
      },
      "source": [
        "# Set up environment and download course-v3\n",
        "!curl -s https://course.fast.ai/setup/colab | bash"
      ],
      "execution_count": 2,
      "outputs": [
        {
          "output_type": "stream",
          "text": [
            "Updating fastai...\n",
            "Done.\n"
          ],
          "name": "stdout"
        }
      ]
    },
    {
      "cell_type": "code",
      "metadata": {
        "id": "_mdsnwP5Qk2x",
        "colab_type": "code",
        "colab": {}
      },
      "source": [
        "import numpy as np\n",
        "import pandas as pd\n",
        "from matplotlib import pyplot as plt\n",
        "\n",
        "from fastai import *\n",
        "from fastai.vision import *   \n",
        "\n",
        "use_cuda = torch.cuda.is_available()\n",
        "device = torch.device(\"cuda\" if use_cuda else \"cpu\")"
      ],
      "execution_count": 0,
      "outputs": []
    },
    {
      "cell_type": "markdown",
      "metadata": {
        "id": "k9nkJxXUQye3",
        "colab_type": "text"
      },
      "source": [
        "If you get \n",
        "```VersionConflict: (fastprogress 0.1.22 (/usr/local/lib/python3.6/dist-packages), Requirement.parse('fastprogress>=0.2.1'))```\n",
        "\n",
        "Restart the runtime and start from the above cell\n"
      ]
    },
    {
      "cell_type": "code",
      "metadata": {
        "id": "23cffleTQ0AC",
        "colab_type": "code",
        "outputId": "cc65ea74-9aa7-4de6-98bf-06eef58f8653",
        "colab": {
          "base_uri": "https://localhost:8080/",
          "height": 34
        }
      },
      "source": [
        "path = untar_data(URLs.MNIST)\n",
        "path\n"
      ],
      "execution_count": 12,
      "outputs": [
        {
          "output_type": "execute_result",
          "data": {
            "text/plain": [
              "PosixPath('/content/data/mnist_png')"
            ]
          },
          "metadata": {
            "tags": []
          },
          "execution_count": 12
        }
      ]
    },
    {
      "cell_type": "code",
      "metadata": {
        "id": "QCnzxaacRq6i",
        "colab_type": "code",
        "colab": {
          "base_uri": "https://localhost:8080/",
          "height": 52
        },
        "outputId": "b3bd9fea-fb3c-4fb9-8a65-e5135f775df6"
      },
      "source": [
        "path.ls()"
      ],
      "execution_count": 13,
      "outputs": [
        {
          "output_type": "execute_result",
          "data": {
            "text/plain": [
              "[PosixPath('/content/data/mnist_png/training'),\n",
              " PosixPath('/content/data/mnist_png/testing')]"
            ]
          },
          "metadata": {
            "tags": []
          },
          "execution_count": 13
        }
      ]
    },
    {
      "cell_type": "code",
      "metadata": {
        "id": "nrKaGIsWRgxC",
        "colab_type": "code",
        "outputId": "b2d348cc-8b0b-4c05-8c05-edd514c87c91",
        "colab": {
          "base_uri": "https://localhost:8080/",
          "height": 45
        }
      },
      "source": [
        "data = ImageDataBunch.from_folder(path, \n",
        "                                  train = 'training',\n",
        "                                  ds_tfms=None,\n",
        "                                  valid = 'testing',\n",
        "                                  bs=64).normalize(imagenet_stats)\n",
        "\n",
        "img,label = data.train_ds[0]\n",
        "img"
      ],
      "execution_count": 17,
      "outputs": [
        {
          "output_type": "execute_result",
          "data": {
            "image/png": "[encoded data removed]",
            "image/jpeg": "[encoded data removed]",
            "text/plain": [
              "Image (3, 28, 28)"
            ]
          },
          "metadata": {
            "tags": []
          },
          "execution_count": 17
        }
      ]
    },
    {
      "cell_type": "markdown",
      "metadata": {
        "id": "NKrak834TgRj",
        "colab_type": "text"
      },
      "source": [
        "# Model"
      ]
    },
    {
      "cell_type": "code",
      "metadata": {
        "id": "8STo5r0aTIKC",
        "colab_type": "code",
        "colab": {}
      },
      "source": [
        "import torch.nn as nn\n",
        "import torch.nn.functional as F"
      ],
      "execution_count": 0,
      "outputs": []
    },
    {
      "cell_type": "code",
      "metadata": {
        "id": "IR0Vrnt7UIj0",
        "colab_type": "code",
        "colab": {}
      },
      "source": [
        "class Flatten(nn.Module):\n",
        "    def __init__(self):\n",
        "        super(Flatten, self).__init__()\n",
        "        \n",
        "    def forward(self, x):\n",
        "        return x.view(x.size(0), -1)\n",
        "    \n",
        "# weight initialization\n",
        "def init_cnn(m):\n",
        "    if getattr(m, 'bias', None) is not None: nn.init.constant_(m.bias, 0)\n",
        "    if isinstance(m, (nn.Conv2d,nn.Linear)): nn.init.kaiming_normal_(m.weight)\n",
        "    for l in m.children(): init_cnn(l)\n",
        "\n",
        "# activation function\n",
        "act_fn = nn.ReLU(inplace=True)"
      ],
      "execution_count": 0,
      "outputs": []
    },
    {
      "cell_type": "code",
      "metadata": {
        "id": "1Bt1eqJFUKq1",
        "colab_type": "code",
        "colab": {}
      },
      "source": [
        "# default conv layer\n",
        "def conv(in_channels, out_channels, kernel_size = 5, stride = 1, bias = False):\n",
        "    return nn.Conv2d(in_channels, out_channels, kernel_size = kernel_size, stride = stride, \n",
        "                     padding = kernel_size//2, bias = bias)\n",
        "    \n",
        "# conv + bn + act_fun\n",
        "def conv_layer(in_channels, out_channels, kernel_size=3, stride=1, bn=False, zero_bn=False, act=True):\n",
        "    bn = nn.BatchNorm2d(out_channels)\n",
        "    nn.init.constant_(bn.weight, 0. if zero_bn else 1.)\n",
        "    layers = [conv(in_channels, out_channels, kernel_size, stride = stride)]\n",
        "    if bn:\n",
        "        layers.append(bn)\n",
        "    if act: \n",
        "        layers.append(act_fn)\n",
        "    return nn.Sequential(*layers)\n",
        "\n",
        "# default maxpool2d\n",
        "def maxpool(kernel_size =3, stride = 2, padding = 1):\n",
        "    return nn.MaxPool2d(kernel_size = kernel_size, stride = stride, padding = padding)\n",
        "\n",
        "# linear layers\n",
        "def linear(n_in, n_out):\n",
        "    return nn.Linear(n_in, n_out)\n",
        "\n",
        "def linear_layer(n_in, n_out, dp=False, dropout_rate = 0.5, bn = False, zero_bn = False, act=True):\n",
        "    dropout = nn.Dropout(p=dropout_rate)\n",
        "    bn = nn.BatchNorm1d(n_out)\n",
        "    nn.init.constant_(bn.weight, 0. if zero_bn else 1.)\n",
        "\n",
        "    layers = [linear(n_in, n_out)]\n",
        "    if bn:\n",
        "        layers.append(bn)\n",
        "    if dp:\n",
        "        layers.append(dropout)\n",
        "    if act: \n",
        "        layers.append(act_fn)\n",
        "\n",
        "    return nn.Sequential(*layers)\n"
      ],
      "execution_count": 0,
      "outputs": []
    },
    {
      "cell_type": "code",
      "metadata": {
        "id": "oEkC1AS3p-O8",
        "colab_type": "code",
        "colab": {}
      },
      "source": [
        "#test linear layer\n",
        "\n",
        "# tmp = torch.randn(64*7*7)\n",
        "# a = linear_layer(64*7*7, 1024)\n",
        "# print(a(tmp).shape)"
      ],
      "execution_count": 0,
      "outputs": []
    },
    {
      "cell_type": "code",
      "metadata": {
        "id": "9wBPzompUbNw",
        "colab_type": "code",
        "colab": {}
      },
      "source": [
        "# simple CNN\n",
        "\"\"\"\n",
        "USE THIS ONE\n",
        "\"\"\"\n",
        "class CNN(nn.Module):\n",
        "    def __init__(self, ni=3, n_classes = 10, input_size = 28):\n",
        "        super(CNN, self).__init__()\n",
        "        self.ni = ni\n",
        "        self.n_classes = n_classes\n",
        "        self.flatten_size = int((input_size/4)**2*64)\n",
        "        \n",
        "\n",
        "        layers = [conv_layer(self.ni, 50, 5), # size [50, 28, 28]\n",
        "                  maxpool(), # size [50, 14, 14]\n",
        "                  conv_layer(50, 64, 5), # size [64, 14, 14]\n",
        "                  maxpool(), # size [64, 7, 7]\n",
        "                  Flatten()] # size 64*7*7\n",
        "                  \n",
        "        lin_layers = [linear_layer(self.flatten_size, 1024, dp=True, dropout_rate=0.4, act=True),\n",
        "                      linear_layer(1024, self.n_classes, act=False)] # no act_fn to return logits\n",
        "\n",
        "\n",
        "        self.nn = nn.Sequential(*layers, *lin_layers)\n",
        "\n",
        "\n",
        "\n",
        "    def forward(self, x):\n",
        "\n",
        "        out = self.nn(x)\n",
        "        return(out)\n",
        "\n",
        "model = CNN()"
      ],
      "execution_count": 0,
      "outputs": []
    },
    {
      "cell_type": "code",
      "metadata": {
        "id": "aHj3qVHmz-JQ",
        "colab_type": "code",
        "outputId": "e0a91e2b-cd39-44f1-8bfc-20f0b821b77b",
        "colab": {
          "base_uri": "https://localhost:8080/",
          "height": 34
        }
      },
      "source": [
        "# test for CNN\n",
        "tmp = torch.randn((32, 3, 28, 28))\n",
        "a = CNN(3, 10, 28)\n",
        "print(a(tmp).shape)\n"
      ],
      "execution_count": 23,
      "outputs": [
        {
          "output_type": "stream",
          "text": [
            "torch.Size([32, 10])\n"
          ],
          "name": "stdout"
        }
      ]
    },
    {
      "cell_type": "code",
      "metadata": {
        "id": "ITwYjpwtU5sk",
        "colab_type": "code",
        "colab": {}
      },
      "source": [
        "# class CNN(nn.Module):\n",
        "#     def __init__(self, ni=3, n_classes = 10, dropout_rate = 0.4, act = True):\n",
        "#         super(CNN, self).__init__()\n",
        "#         self.ni = ni\n",
        "#         self.n_classes = n_classes\n",
        "#         self.dropout_rate = dropout_rate\n",
        "#         self.lin = nn.Linear(self.ni, self.n_classes)\n",
        "\n",
        "#         layers = [conv_layer(self.ni, 50, 5), # size [50, 28, 28]\n",
        "#                     maxpool(), # size [50, 14, 14]\n",
        "#                     conv_layer(50, 64, 5), # size [64, 14, 14]\n",
        "#                     maxpool(), # size [64,7,7]\n",
        "#                     Flatten()] # size 64*7*7\n",
        "\n",
        "#         self.convs = nn.Sequential(*layers)\n",
        "\n",
        "#         self.lin1 = nn.Linear(64*7*7, 1024)\n",
        "#         self.dropout = nn.Dropout(p=self.dropout_rate)\n",
        "#         self.lin2 = nn.Linear(1024, self.n_classes)\n",
        "\n",
        "#     def forward(self, x):\n",
        "#         out = self.convs(x)\n",
        "#         out = act_fn(self.dropout(self.lin1(out)))\n",
        "#         out = self.lin2(out)\n",
        "#         return(out)\n",
        "\n",
        "\n",
        "# model = CNN()"
      ],
      "execution_count": 0,
      "outputs": []
    },
    {
      "cell_type": "code",
      "metadata": {
        "id": "HTaBIRk8l5pj",
        "colab_type": "code",
        "outputId": "7165ad6e-48a2-499d-e872-cdc746d1f3a7",
        "colab": {
          "base_uri": "https://localhost:8080/",
          "height": 34
        }
      },
      "source": [
        "# test for CNN\n",
        "# tmp = torch.randn((32, 3, 28, 28))\n",
        "# a = CNN(3, 10)\n",
        "# print(a(tmp).shape)\n"
      ],
      "execution_count": 25,
      "outputs": [
        {
          "output_type": "stream",
          "text": [
            "torch.Size([32, 10])\n"
          ],
          "name": "stdout"
        }
      ]
    },
    {
      "cell_type": "markdown",
      "metadata": {
        "id": "03y29KG0tbcr",
        "colab_type": "text"
      },
      "source": [
        "# Creating fastai learner"
      ]
    },
    {
      "cell_type": "code",
      "metadata": {
        "id": "HjskSS1ctbIf",
        "colab_type": "code",
        "outputId": "2aa72ae8-3c1c-4574-ac20-c77e136bb25f",
        "colab": {
          "base_uri": "https://localhost:8080/",
          "height": 81
        }
      },
      "source": [
        "model = CNN(3, 10).to(device)\n",
        "learn = Learner(data, model, metrics=accuracy)\n",
        "learn.fit(1)"
      ],
      "execution_count": 26,
      "outputs": [
        {
          "output_type": "display_data",
          "data": {
            "text/html": [
              "<table border=\"1\" class=\"dataframe\">\n",
              "  <thead>\n",
              "    <tr style=\"text-align: left;\">\n",
              "      <th>epoch</th>\n",
              "      <th>train_loss</th>\n",
              "      <th>valid_loss</th>\n",
              "      <th>accuracy</th>\n",
              "      <th>time</th>\n",
              "    </tr>\n",
              "  </thead>\n",
              "  <tbody>\n",
              "    <tr>\n",
              "      <td>0</td>\n",
              "      <td>0.064672</td>\n",
              "      <td>0.047728</td>\n",
              "      <td>0.990500</td>\n",
              "      <td>00:24</td>\n",
              "    </tr>\n",
              "  </tbody>\n",
              "</table>"
            ],
            "text/plain": [
              "<IPython.core.display.HTML object>"
            ]
          },
          "metadata": {
            "tags": []
          }
        }
      ]
    },
    {
      "cell_type": "code",
      "metadata": {
        "id": "oLXJHWlFtLwA",
        "colab_type": "code",
        "colab": {
          "base_uri": "https://localhost:8080/",
          "height": 279
        },
        "outputId": "02f0e3c4-4ae1-49a8-be16-3c72297e41ae"
      },
      "source": [
        "learn.recorder.plot_metrics()"
      ],
      "execution_count": 27,
      "outputs": [
        {
          "output_type": "display_data",
          "data": {
            "image/png": "[encoded data removed]",
            "text/plain": [
              "<Figure size 432x288 with 1 Axes>"
            ]
          },
          "metadata": {
            "tags": []
          }
        }
      ]
    },
    {
      "cell_type": "code",
      "metadata": {
        "id": "JO6mJ8UdNq25",
        "colab_type": "code",
        "colab": {
          "base_uri": "https://localhost:8080/",
          "height": 279
        },
        "outputId": "454ecf8d-fadb-4bd7-f2ae-73bb89de907a"
      },
      "source": [
        "learn.recorder.plot_losses()"
      ],
      "execution_count": 28,
      "outputs": [
        {
          "output_type": "display_data",
          "data": {
            "image/png": "[encoded data removed]",
            "text/plain": [
              "<Figure size 432x288 with 1 Axes>"
            ]
          },
          "metadata": {
            "tags": []
          }
        }
      ]
    },
    {
      "cell_type": "markdown",
      "metadata": {
        "id": "cPiTgH__OLuo",
        "colab_type": "text"
      },
      "source": [
        "# Try on CIFAR 10"
      ]
    },
    {
      "cell_type": "code",
      "metadata": {
        "colab_type": "code",
        "outputId": "29113660-2d88-4fc9-9aab-d3346a4db70a",
        "id": "UmnwDibLOM-N",
        "colab": {
          "base_uri": "https://localhost:8080/",
          "height": 52
        }
      },
      "source": [
        "path = untar_data(URLs.CIFAR)\n",
        "path"
      ],
      "execution_count": 29,
      "outputs": [
        {
          "output_type": "stream",
          "text": [
            "Downloading http://files.fast.ai/data/examples/cifar10\n"
          ],
          "name": "stdout"
        },
        {
          "output_type": "display_data",
          "data": {
            "text/html": [
              ""
            ],
            "text/plain": [
              "<IPython.core.display.HTML object>"
            ]
          },
          "metadata": {
            "tags": []
          }
        },
        {
          "output_type": "execute_result",
          "data": {
            "text/plain": [
              "PosixPath('/root/.fastai/data/cifar10')"
            ]
          },
          "metadata": {
            "tags": []
          },
          "execution_count": 29
        }
      ]
    },
    {
      "cell_type": "code",
      "metadata": {
        "colab_type": "code",
        "outputId": "252011a6-251b-4637-e49d-f6164ca6e05e",
        "id": "4pMez-uEOM-V",
        "colab": {
          "base_uri": "https://localhost:8080/",
          "height": 49
        }
      },
      "source": [
        "data = ImageDataBunch.from_folder(path, \n",
        "                                  ds_tfms=None,\n",
        "                                  valid='test',\n",
        "                                  bs=64).normalize(imagenet_stats)\n",
        "\n",
        "img,label = data.train_ds[0]\n",
        "img"
      ],
      "execution_count": 30,
      "outputs": [
        {
          "output_type": "execute_result",
          "data": {
            "image/png": "[encoded data removed]",
            "image/jpeg": "[encoded data removed]",
            "text/plain": [
              "Image (3, 32, 32)"
            ]
          },
          "metadata": {
            "tags": []
          },
          "execution_count": 30
        }
      ]
    },
    {
      "cell_type": "code",
      "metadata": {
        "id": "82N0J-YMOVmf",
        "colab_type": "code",
        "colab": {
          "base_uri": "https://localhost:8080/",
          "height": 81
        },
        "outputId": "27a16bed-1663-4298-81b8-243b7ce38271"
      },
      "source": [
        "model = CNN(3, 10, 32).to(device)\n",
        "learn = Learner(data, model, metrics=accuracy)\n",
        "learn.fit(1)"
      ],
      "execution_count": 31,
      "outputs": [
        {
          "output_type": "display_data",
          "data": {
            "text/html": [
              "<table border=\"1\" class=\"dataframe\">\n",
              "  <thead>\n",
              "    <tr style=\"text-align: left;\">\n",
              "      <th>epoch</th>\n",
              "      <th>train_loss</th>\n",
              "      <th>valid_loss</th>\n",
              "      <th>accuracy</th>\n",
              "      <th>time</th>\n",
              "    </tr>\n",
              "  </thead>\n",
              "  <tbody>\n",
              "    <tr>\n",
              "      <td>0</td>\n",
              "      <td>0.967985</td>\n",
              "      <td>0.951247</td>\n",
              "      <td>0.670000</td>\n",
              "      <td>00:23</td>\n",
              "    </tr>\n",
              "  </tbody>\n",
              "</table>"
            ],
            "text/plain": [
              "<IPython.core.display.HTML object>"
            ]
          },
          "metadata": {
            "tags": []
          }
        }
      ]
    },
    {
      "cell_type": "code",
      "metadata": {
        "id": "D-K8JiurOYy5",
        "colab_type": "code",
        "colab": {
          "base_uri": "https://localhost:8080/",
          "height": 281
        },
        "outputId": "4459399b-1866-4271-a2a0-a0ffb4e3e80d"
      },
      "source": [
        "learn.recorder.plot_losses()"
      ],
      "execution_count": 32,
      "outputs": [
        {
          "output_type": "display_data",
          "data": {
            "image/png": "[encoded data removed]",
            "text/plain": [
              "<Figure size 432x288 with 1 Axes>"
            ]
          },
          "metadata": {
            "tags": []
          }
        }
      ]
    },
    {
      "cell_type": "code",
      "metadata": {
        "id": "QZRQvggOPHpa",
        "colab_type": "code",
        "colab": {
          "base_uri": "https://localhost:8080/",
          "height": 279
        },
        "outputId": "9d0d4c75-7b50-43dc-a657-5d94a99de3ed"
      },
      "source": [
        "learn.recorder.plot_metrics()"
      ],
      "execution_count": 33,
      "outputs": [
        {
          "output_type": "display_data",
          "data": {
            "image/png": "[encoded data removed]",
            "text/plain": [
              "<Figure size 432x288 with 1 Axes>"
            ]
          },
          "metadata": {
            "tags": []
          }
        }
      ]
    },
    {
      "cell_type": "code",
      "metadata": {
        "id": "YUmzgCoPSNlQ",
        "colab_type": "code",
        "colab": {}
      },
      "source": [
        ""
      ],
      "execution_count": 0,
      "outputs": []
    }
  ]
}