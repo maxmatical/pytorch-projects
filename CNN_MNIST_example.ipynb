{
  "nbformat": 4,
  "nbformat_minor": 0,
  "metadata": {
    "colab": {
      "name": "CNN MNIST example.ipynb",
      "provenance": [],
      "collapsed_sections": [],
      "include_colab_link": true
    },
    "kernelspec": {
      "name": "python3",
      "display_name": "Python 3"
    },
    "accelerator": "GPU"
  },
  "cells": [
    {
      "cell_type": "markdown",
      "metadata": {
        "id": "view-in-github",
        "colab_type": "text"
      },
      "source": [
        "<a href=\"https://colab.research.google.com/github/maxmatical/pytorch-projects/blob/master/CNN_MNIST_example.ipynb\" target=\"_parent\"><img src=\"https://colab.research.google.com/assets/colab-badge.svg\" alt=\"Open In Colab\"/></a>"
      ]
    },
    {
      "cell_type": "code",
      "metadata": {
        "id": "JRA2WgtMQYo9",
        "colab_type": "code",
        "colab": {}
      },
      "source": [
        "%%capture\n",
        "!pip install git+https://github.com/fastai/fastai.git"
      ],
      "execution_count": 0,
      "outputs": []
    },
    {
      "cell_type": "code",
      "metadata": {
        "id": "J5_6QxmeQkJJ",
        "colab_type": "code",
        "outputId": "17a54357-ed55-47d6-ed44-eac4f252c204",
        "colab": {
          "base_uri": "https://localhost:8080/",
          "height": 52
        }
      },
      "source": [
        "# Set up environment and download course-v3\n",
        "!curl -s https://course.fast.ai/setup/colab | bash"
      ],
      "execution_count": 0,
      "outputs": [
        {
          "output_type": "stream",
          "text": [
            "Updating fastai...\n",
            "Done.\n"
          ],
          "name": "stdout"
        }
      ]
    },
    {
      "cell_type": "code",
      "metadata": {
        "id": "_mdsnwP5Qk2x",
        "colab_type": "code",
        "colab": {}
      },
      "source": [
        "import numpy as np\n",
        "import pandas as pd\n",
        "from matplotlib import pyplot as plt\n",
        "\n",
        "from fastai import *\n",
        "from fastai.vision import *   \n",
        "\n",
        "use_cuda = torch.cuda.is_available()\n",
        "device = torch.device(\"cuda\" if use_cuda else \"cpu\")"
      ],
      "execution_count": 0,
      "outputs": []
    },
    {
      "cell_type": "code",
      "metadata": {
        "id": "23cffleTQ0AC",
        "colab_type": "code",
        "outputId": "cd651bcc-0bb0-45b3-eba7-0d4fba5e60ad",
        "colab": {
          "base_uri": "https://localhost:8080/",
          "height": 34
        }
      },
      "source": [
        "path = untar_data(URLs.MNIST_SAMPLE)\n",
        "path"
      ],
      "execution_count": 0,
      "outputs": [
        {
          "output_type": "execute_result",
          "data": {
            "text/plain": [
              "PosixPath('/content/data/mnist_sample')"
            ]
          },
          "metadata": {
            "tags": []
          },
          "execution_count": 2
        }
      ]
    },
    {
      "cell_type": "code",
      "metadata": {
        "id": "nrKaGIsWRgxC",
        "colab_type": "code",
        "outputId": "dbda23e9-5c07-4d20-ee4c-574b4c84d6b9",
        "colab": {
          "base_uri": "https://localhost:8080/",
          "height": 45
        }
      },
      "source": [
        "data = ImageDataBunch.from_folder(path, \n",
        "                                  ds_tfms=None,\n",
        "                                  valid_pct=0.2,\n",
        "                                  bs=64).normalize(imagenet_stats)\n",
        "\n",
        "img,label = data.train_ds[0]\n",
        "img"
      ],
      "execution_count": 0,
      "outputs": [
        {
          "output_type": "execute_result",
          "data": {
            "image/png": "[encoded data removed]",
            "image/jpeg": "[encoded data removed]",
            "text/plain": [
              "Image (3, 28, 28)"
            ]
          },
          "metadata": {
            "tags": []
          },
          "execution_count": 84
        }
      ]
    },
    {
      "cell_type": "markdown",
      "metadata": {
        "id": "NKrak834TgRj",
        "colab_type": "text"
      },
      "source": [
        "# Model"
      ]
    },
    {
      "cell_type": "code",
      "metadata": {
        "id": "8STo5r0aTIKC",
        "colab_type": "code",
        "colab": {}
      },
      "source": [
        "import torch.nn as nn\n",
        "import torch.nn.functional as F"
      ],
      "execution_count": 0,
      "outputs": []
    },
    {
      "cell_type": "code",
      "metadata": {
        "id": "IR0Vrnt7UIj0",
        "colab_type": "code",
        "colab": {}
      },
      "source": [
        "class Flatten(nn.Module):\n",
        "    def __init__(self):\n",
        "        super(Flatten, self).__init__()\n",
        "        \n",
        "    def forward(self, x):\n",
        "        return x.view(x.size(0), -1)\n",
        "    \n",
        "# weight initialization\n",
        "def init_cnn(m):\n",
        "    if getattr(m, 'bias', None) is not None: nn.init.constant_(m.bias, 0)\n",
        "    if isinstance(m, (nn.Conv2d,nn.Linear)): nn.init.kaiming_normal_(m.weight)\n",
        "    for l in m.children(): init_cnn(l)\n",
        "\n",
        "# activation function\n",
        "act_fn = nn.ReLU(inplace=True)"
      ],
      "execution_count": 0,
      "outputs": []
    },
    {
      "cell_type": "code",
      "metadata": {
        "id": "1Bt1eqJFUKq1",
        "colab_type": "code",
        "colab": {}
      },
      "source": [
        "# default conv layer\n",
        "def conv(in_channels, out_channels, kernel_size = 5, stride = 1, bias = False):\n",
        "    return nn.Conv2d(in_channels, out_channels, kernel_size = kernel_size, stride = stride, \n",
        "                     padding = kernel_size//2, bias = bias)\n",
        "    \n",
        "# conv + bn + act_fun\n",
        "def conv_layer(in_channels, out_channels, kernel_size=3, stride=1, bn=False, zero_bn=False, act=True):\n",
        "    bn = nn.BatchNorm2d(out_channels)\n",
        "    nn.init.constant_(bn.weight, 0. if zero_bn else 1.)\n",
        "    layers = [conv(in_channels, out_channels, kernel_size, stride = stride)]\n",
        "    if bn:\n",
        "        layers.append(bn)\n",
        "    if act: \n",
        "        layers.append(act_fn)\n",
        "    return nn.Sequential(*layers)\n",
        "\n",
        "# default maxpool2d\n",
        "def maxpool(kernel_size =3, stride = 2, padding = 1):\n",
        "    return nn.MaxPool2d(kernel_size = kernel_size, stride = stride, padding = padding)\n",
        "\n",
        "# linear layers\n",
        "def linear(n_in, n_out):\n",
        "    return nn.Linear(n_in, n_out)\n",
        "\n",
        "def linear_layer(n_in, n_out, dp=False, dropout_rate = 0.5, bn = False, zero_bn = False, act=True):\n",
        "    dropout = nn.Dropout(p=dropout_rate)\n",
        "    bn = nn.BatchNorm1d(n_out)\n",
        "    nn.init.constant_(bn.weight, 0. if zero_bn else 1.)\n",
        "\n",
        "    layers = [linear(n_in, n_out)]\n",
        "    if bn:\n",
        "        layers.append(bn)\n",
        "    if dp:\n",
        "        layers.append(dropout)\n",
        "    if act: \n",
        "        layers.append(act_fn)\n",
        "\n",
        "    return nn.Sequential(*layers)\n"
      ],
      "execution_count": 0,
      "outputs": []
    },
    {
      "cell_type": "code",
      "metadata": {
        "id": "oEkC1AS3p-O8",
        "colab_type": "code",
        "colab": {}
      },
      "source": [
        "#test linear layer\n",
        "\n",
        "# tmp = torch.randn(64*7*7)\n",
        "# a = linear_layer(64*7*7, 1024)\n",
        "# print(a(tmp).shape)"
      ],
      "execution_count": 0,
      "outputs": []
    },
    {
      "cell_type": "code",
      "metadata": {
        "id": "9wBPzompUbNw",
        "colab_type": "code",
        "colab": {}
      },
      "source": [
        "# simple CNN\n",
        "\"\"\"\n",
        "DON'T USE THIS FOR NOW \n",
        "\n",
        "\"\"\"\n",
        "class CNN(nn.Module):\n",
        "    def __init__(self, ni=3, n_classes = 10):\n",
        "        super(CNN, self).__init__()\n",
        "        self.ni = ni\n",
        "        self.n_classes = n_classes\n",
        "\n",
        "\n",
        "        layers = [conv_layer(self.ni, 50, 5), # size [50, 28, 28]\n",
        "                  maxpool(), # size [50, 14, 14]\n",
        "                  conv_layer(50, 64, 5), # size [64, 14, 14]\n",
        "                  maxpool(), # size [64, 7, 7]\n",
        "                  Flatten()] # size 64*7*7\n",
        "                  \n",
        "        lin_layers = [linear_layer(64*7*7, 1024, dp=True, dropout_rate=0.4, act=True),\n",
        "                      linear_layer(1024, self.n_classes, act=False)] # no act_fn to return logits\n",
        "\n",
        "\n",
        "        self.nn = nn.Sequential(*layers, *lin_layers)\n",
        "\n",
        "\n",
        "\n",
        "    def forward(self, x):\n",
        "\n",
        "        out = self.nn(x)\n",
        "        return(out)\n",
        "\n",
        "model = CNN()"
      ],
      "execution_count": 0,
      "outputs": []
    },
    {
      "cell_type": "code",
      "metadata": {
        "id": "aHj3qVHmz-JQ",
        "colab_type": "code",
        "colab": {
          "base_uri": "https://localhost:8080/",
          "height": 34
        },
        "outputId": "55202a84-1170-4ece-cf26-d35d6e270c7e"
      },
      "source": [
        "# test for CNN\n",
        "tmp = torch.randn((32, 3, 28, 28))\n",
        "a = CNN(3, 10)\n",
        "print(a(tmp).shape)\n"
      ],
      "execution_count": 132,
      "outputs": [
        {
          "output_type": "stream",
          "text": [
            "torch.Size([32, 10])\n"
          ],
          "name": "stdout"
        }
      ]
    },
    {
      "cell_type": "code",
      "metadata": {
        "id": "ITwYjpwtU5sk",
        "colab_type": "code",
        "colab": {}
      },
      "source": [
        "class CNN(nn.Module):\n",
        "    def __init__(self, ni=3, n_classes = 10, dropout_rate = 0.4, act = True):\n",
        "        super(CNN, self).__init__()\n",
        "        self.ni = ni\n",
        "        self.n_classes = n_classes\n",
        "        self.dropout_rate = dropout_rate\n",
        "        self.lin = nn.Linear(self.ni, self.n_classes)\n",
        "\n",
        "        layers = [conv_layer(self.ni, 50, 5), # size [50, 28, 28]\n",
        "                    maxpool(), # size [50, 14, 14]\n",
        "                    conv_layer(50, 64, 5), # size [64, 14, 14]\n",
        "                    maxpool(), # size [64,7,7]\n",
        "                    Flatten()] # size 64*7*7\n",
        "\n",
        "        self.convs = nn.Sequential(*layers)\n",
        "\n",
        "        self.lin1 = nn.Linear(64*7*7, 1024)\n",
        "        self.dropout = nn.Dropout(p=self.dropout_rate)\n",
        "        self.lin2 = nn.Linear(1024, self.n_classes)\n",
        "\n",
        "    def forward(self, x):\n",
        "        out = self.convs(x)\n",
        "        # out = act_fn(self.dropout(self.lin1(out)))\n",
        "        # out = self.lin2(out)\n",
        "        return(out)\n",
        "\n",
        "\n",
        "model = CNN()"
      ],
      "execution_count": 0,
      "outputs": []
    },
    {
      "cell_type": "code",
      "metadata": {
        "id": "HTaBIRk8l5pj",
        "colab_type": "code",
        "outputId": "fb85c257-0fc9-4d56-d173-0a69abe85912",
        "colab": {
          "base_uri": "https://localhost:8080/",
          "height": 34
        }
      },
      "source": [
        "# test for CNN\n",
        "tmp = torch.randn((32, 3, 28, 28))\n",
        "a = CNN(3, 10)\n",
        "print(a(tmp).shape)\n"
      ],
      "execution_count": 119,
      "outputs": [
        {
          "output_type": "stream",
          "text": [
            "torch.Size([32, 3136])\n"
          ],
          "name": "stdout"
        }
      ]
    },
    {
      "cell_type": "markdown",
      "metadata": {
        "id": "03y29KG0tbcr",
        "colab_type": "text"
      },
      "source": [
        "# Creating fastai learner"
      ]
    },
    {
      "cell_type": "code",
      "metadata": {
        "id": "HjskSS1ctbIf",
        "colab_type": "code",
        "outputId": "cc305f44-a5d3-4c4f-bf1c-40cb80c9b965",
        "colab": {
          "base_uri": "https://localhost:8080/",
          "height": 81
        }
      },
      "source": [
        "model = CNN(3, 10).to(device)\n",
        "learn = Learner(data, model, metrics=accuracy)\n",
        "learn.fit(1)"
      ],
      "execution_count": 133,
      "outputs": [
        {
          "output_type": "display_data",
          "data": {
            "text/html": [
              "<table border=\"1\" class=\"dataframe\">\n",
              "  <thead>\n",
              "    <tr style=\"text-align: left;\">\n",
              "      <th>epoch</th>\n",
              "      <th>train_loss</th>\n",
              "      <th>valid_loss</th>\n",
              "      <th>accuracy</th>\n",
              "      <th>time</th>\n",
              "    </tr>\n",
              "  </thead>\n",
              "  <tbody>\n",
              "    <tr>\n",
              "      <td>0</td>\n",
              "      <td>0.772130</td>\n",
              "      <td>0.578932</td>\n",
              "      <td>0.999307</td>\n",
              "      <td>00:04</td>\n",
              "    </tr>\n",
              "  </tbody>\n",
              "</table>"
            ],
            "text/plain": [
              "<IPython.core.display.HTML object>"
            ]
          },
          "metadata": {
            "tags": []
          }
        }
      ]
    },
    {
      "cell_type": "code",
      "metadata": {
        "id": "oLXJHWlFtLwA",
        "colab_type": "code",
        "colab": {}
      },
      "source": [
        ""
      ],
      "execution_count": 0,
      "outputs": []
    }
  ]
}