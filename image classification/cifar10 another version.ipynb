{
 "cells": [
  {
   "cell_type": "code",
   "execution_count": 1,
   "metadata": {},
   "outputs": [],
   "source": [
    "# loading and normalizing cifar10\n",
    "import torch\n",
    "import torchvision\n",
    "import torchvision.transforms as transforms\n",
    "import numpy as np\n",
    "\n",
    "import torch.nn as nn\n",
    "import torch.nn.functional as F"
   ]
  },
  {
   "cell_type": "code",
   "execution_count": 2,
   "metadata": {},
   "outputs": [
    {
     "name": "stderr",
     "output_type": "stream",
     "text": [
      "/Users/maxtian/anaconda3/lib/python3.6/site-packages/h5py/__init__.py:36: FutureWarning: Conversion of the second argument of issubdtype from `float` to `np.floating` is deprecated. In future, it will be treated as `np.float64 == np.dtype(float).type`.\n",
      "  from ._conv import register_converters as _register_converters\n",
      "Using TensorFlow backend.\n"
     ]
    },
    {
     "name": "stdout",
     "output_type": "stream",
     "text": [
      "(50000, 32, 32, 3)\n",
      "(50000, 1)\n"
     ]
    }
   ],
   "source": [
    "# import cifar10 from keras\n",
    "from keras.datasets import cifar10\n",
    "(x_train, y_train), (x_test, y_test) = cifar10.load_data()\n",
    "\n",
    "type(x_train)\n",
    "type(y_train)\n",
    "\n",
    "print(x_train.shape) # need to conver this to [50000, 3, 32, 32] for torch tensors\n",
    "print(y_train.shape)"
   ]
  },
  {
   "cell_type": "markdown",
   "metadata": {},
   "source": [
    "# add train_val split"
   ]
  },
  {
   "cell_type": "code",
   "execution_count": 3,
   "metadata": {},
   "outputs": [
    {
     "name": "stdout",
     "output_type": "stream",
     "text": [
      "torch.Size([50000, 32, 32, 3])\n",
      "torch.Size([10000, 32, 32, 3])\n",
      "torch.ByteTensor\n",
      "torch.ByteTensor\n"
     ]
    }
   ],
   "source": [
    "# change to torch tensor\n",
    "x_train = torch.from_numpy(x_train)\n",
    "y_train = torch.from_numpy(y_train)\n",
    "x_test = torch.from_numpy(x_test)\n",
    "y_test = torch.from_numpy(y_test)\n",
    "\n",
    "\n",
    "print(x_train.size())\n",
    "print(x_test.size())\n",
    "print(x_train.type())\n",
    "print(y_train.type())"
   ]
  },
  {
   "cell_type": "code",
   "execution_count": 4,
   "metadata": {},
   "outputs": [],
   "source": [
    "#x_train = x_train.type('torch.DoubleTensor')\n",
    "#x_test = x_test.type('torch.DoubleTensor')\n",
    "#y_train = y_train.type('torch.DoubleTensor')\n",
    "#y_test = y_test.type('torch.DoubleTensor')\n",
    "x_train = x_train.float()\n",
    "x_test = x_test.float()\n",
    "y_train = y_train.long()\n",
    "y_test = y_test.long()\n",
    "y_train = y_train.squeeze(1) # labels need to be squeezed/unraveled\n",
    "y_test = y_test.squeeze(1)"
   ]
  },
  {
   "cell_type": "code",
   "execution_count": 5,
   "metadata": {},
   "outputs": [
    {
     "name": "stdout",
     "output_type": "stream",
     "text": [
      "tensor([ 3,  8,  8,  ...,  5,  1,  7])\n"
     ]
    }
   ],
   "source": [
    "print(y_test)"
   ]
  },
  {
   "cell_type": "code",
   "execution_count": 6,
   "metadata": {},
   "outputs": [
    {
     "name": "stdout",
     "output_type": "stream",
     "text": [
      "torch.Size([50000, 32, 32, 3])\n",
      "torch.Size([10000, 32, 32, 3])\n",
      "torch.Size([50000])\n",
      "torch.Size([10000])\n",
      "torch.FloatTensor\n",
      "torch.FloatTensor\n",
      "torch.LongTensor\n",
      "torch.LongTensor\n"
     ]
    }
   ],
   "source": [
    "# checking shape and type\n",
    "print(x_train.size())\n",
    "print(x_test.size())\n",
    "print(y_train.size())\n",
    "print(y_test.size())\n",
    "print(x_train.type())\n",
    "print(x_test.type())\n",
    "print(y_train.type())\n",
    "print(y_test.type())"
   ]
  },
  {
   "cell_type": "code",
   "execution_count": 7,
   "metadata": {},
   "outputs": [],
   "source": [
    "#reshaping torch tensor\n",
    "x_train = x_train.permute(0,3,1,2)\n",
    "x_test = x_test.permute(0,3,1,2)\n"
   ]
  },
  {
   "cell_type": "code",
   "execution_count": 8,
   "metadata": {},
   "outputs": [
    {
     "name": "stdout",
     "output_type": "stream",
     "text": [
      "torch.Size([50000, 3, 32, 32])\n",
      "torch.Size([10000, 3, 32, 32])\n"
     ]
    }
   ],
   "source": [
    "# check tensor shape\n",
    "# should be [n, channels, x, y]\n",
    "print(x_train.size())\n",
    "print(x_test.size())"
   ]
  },
  {
   "cell_type": "code",
   "execution_count": 9,
   "metadata": {},
   "outputs": [],
   "source": [
    "# change into torch dataset\n",
    "\n",
    "from torch.utils.data import TensorDataset\n",
    "\n",
    "train = TensorDataset(x_train, y_train)\n",
    "\n",
    "test = TensorDataset(x_test, y_test)"
   ]
  },
  {
   "cell_type": "code",
   "execution_count": null,
   "metadata": {},
   "outputs": [],
   "source": []
  },
  {
   "cell_type": "code",
   "execution_count": 10,
   "metadata": {},
   "outputs": [],
   "source": [
    "# setting up a train and test loader\n",
    "trainloader = torch.utils.data.DataLoader(train, batch_size=64, shuffle=True)\n",
    "testloader = torch.utils.data.DataLoader(test, batch_size=64, shuffle=False)\n"
   ]
  },
  {
   "cell_type": "code",
   "execution_count": 11,
   "metadata": {},
   "outputs": [],
   "source": [
    "# creating a function that initializes weights\n",
    "def init_weight_conv(m):\n",
    "    if type(m) == nn.Conv2d:\n",
    "        torch.nn.init.kaiming_normal_(m.weight) #he initialize, can use xavier instead\n",
    "        m.bias.data.fill_(0.01) # optional bias\n",
    "        \n",
    "def init_weight_linear(m):\n",
    "    if type(m) == nn.Linear:\n",
    "        torch.nn.init.kaiming_normal_(m.weight)\n",
    "        m.bias.data.fill_(0.01)\n",
    "    "
   ]
  },
  {
   "cell_type": "code",
   "execution_count": 16,
   "metadata": {},
   "outputs": [],
   "source": [
    "# creating NN\n",
    "\n",
    "# set zero padding to (k-1)/2 for stride = 1\n",
    "# \n",
    "\n",
    "\n",
    "class convnet(nn.Module):\n",
    "    def __init__(self):\n",
    "        super(convnet, self).__init__()\n",
    "        self.conv_block1 = nn.Sequential(\n",
    "                            nn.Conv2d(3, 8, 5, padding=2), # [in-channel, out-channel(# of filters), kernel size (5,5)]\n",
    "                            nn.ReLU(),\n",
    "                            nn.MaxPool2d(2,2)\n",
    "        )\n",
    "        self.conv_block2 = nn.Sequential(\n",
    "                            nn.Conv2d(8, 8, 5, padding = 2), # note that in-channel for the next layer is the same as out-channel from prev conv layer\n",
    "                            nn.ReLU(),\n",
    "                            nn.MaxPool2d(2,2)\n",
    "        )\n",
    "        self.fc1 = nn.Linear(512, 32) # 8*5*5 is flattened 8 filters and 5x5 kernel size\n",
    "        self.dropout = nn.Dropout(0.5)\n",
    "        self.fc2 = nn.Linear(32, 32)\n",
    "        self.fc3 = nn.Linear(32, 10)\n",
    "    def forward(self, x):\n",
    "        x = self.conv_block1(x)\n",
    "        x = self.conv_block2(x)\n",
    "        x = x.view(x.size(0), -1) # flatten\n",
    "        x = F.relu(self.fc1(x))\n",
    "        x = self.dropout(x)\n",
    "        x = F.relu(self.fc2(x))\n",
    "        x = self.dropout(x)\n",
    "        x = self.fc3(x)\n",
    "        return x\n",
    "        \n",
    "net = convnet()\n",
    "\n"
   ]
  },
  {
   "cell_type": "code",
   "execution_count": 13,
   "metadata": {},
   "outputs": [
    {
     "data": {
      "text/plain": [
       "convnet(\n",
       "  (conv_block1): Sequential(\n",
       "    (0): Conv2d(3, 8, kernel_size=(5, 5), stride=(1, 1), padding=(2, 2))\n",
       "    (1): ReLU()\n",
       "    (2): MaxPool2d(kernel_size=2, stride=2, padding=0, dilation=1, ceil_mode=False)\n",
       "  )\n",
       "  (conv_block2): Sequential(\n",
       "    (0): Conv2d(8, 8, kernel_size=(5, 5), stride=(1, 1), padding=(2, 2))\n",
       "    (1): ReLU()\n",
       "    (2): MaxPool2d(kernel_size=2, stride=2, padding=0, dilation=1, ceil_mode=False)\n",
       "  )\n",
       "  (fc1): Linear(in_features=512, out_features=32, bias=True)\n",
       "  (dropout): Dropout(p=0.5)\n",
       "  (fc2): Linear(in_features=32, out_features=32, bias=True)\n",
       "  (fc3): Linear(in_features=32, out_features=10, bias=True)\n",
       ")"
      ]
     },
     "execution_count": 13,
     "metadata": {},
     "output_type": "execute_result"
    }
   ],
   "source": [
    "# apply initializers\n",
    "net.apply(init_weight_conv)\n",
    "net.apply(init_weight_linear)"
   ]
  },
  {
   "cell_type": "code",
   "execution_count": 17,
   "metadata": {},
   "outputs": [],
   "source": [
    "# define loss and optimizer\n",
    "import torch.optim as optim\n",
    "learning_rate = 0.001\n",
    "criterion = nn.CrossEntropyLoss()\n",
    "optimizer = optim.Adam(net.parameters(), lr=learning_rate) #net.parameters"
   ]
  },
  {
   "cell_type": "code",
   "execution_count": null,
   "metadata": {},
   "outputs": [],
   "source": [
    "# model training\n",
    "n_epochs = 2\n",
    "\n",
    "for epoch in range(n_epochs):\n",
    "    running_loss = 0.0\n",
    "    for i, train_data in enumerate(trainloader, 0):\n",
    "        # get the inputs\n",
    "        inputs, labels = train_data\n",
    "\n",
    "        # zero the parameter gradients\n",
    "        optimizer.zero_grad()\n",
    "\n",
    "        # forward + backward + optimize\n",
    "        outputs = net(inputs)\n",
    "        loss = criterion(outputs, labels)\n",
    "        loss.backward()\n",
    "        optimizer.step()\n",
    "\n",
    "        # print loss per n minibatches\n",
    "        running_loss += loss.item()\n",
    "        if i % 50 == 49:    # print every 50 mini-batches\n",
    "            print('[%d, %5d] loss: %.3f' %\n",
    "                  (epoch + 1, i + 1, running_loss / 50))\n",
    "            running_loss = 0.0\n",
    "    \n",
    "    # for printing average loss every epoch\n",
    "    print(\"===> Epoch {} Complete: Avg. Loss: {:.4f}\".format(epoch+1, running_loss / len(trainloader)))\n",
    "print('Finished Training')"
   ]
  },
  {
   "cell_type": "code",
   "execution_count": 18,
   "metadata": {},
   "outputs": [
    {
     "name": "stdout",
     "output_type": "stream",
     "text": [
      "[1,    50] loss: 2.392\n",
      "[1,   100] loss: 2.307\n",
      "[1,   150] loss: 2.306\n",
      "[1,   200] loss: 2.302\n",
      "[1,   250] loss: 2.305\n",
      "[1,   300] loss: 2.304\n",
      "[1,   350] loss: 2.303\n",
      "[1,   400] loss: 2.304\n",
      "[1,   450] loss: 2.303\n",
      "[1,   500] loss: 2.304\n",
      "[1,   550] loss: 2.303\n",
      "[1,   600] loss: 2.303\n",
      "[1,   650] loss: 2.303\n",
      "[1,   700] loss: 2.303\n",
      "[1,   750] loss: 2.304\n",
      "===> Epoch 1 Complete: Train Avg. Loss: 0.0943\n",
      "===> Epoch 1 Complete: Test Avg. Loss: 2.3033\n",
      "Accuracy of the network on the 10000 test images: 9 %\n",
      "[2,    50] loss: 2.303\n",
      "[2,   100] loss: 2.304\n",
      "[2,   150] loss: 2.303\n",
      "[2,   200] loss: 2.303\n",
      "[2,   250] loss: 2.303\n",
      "[2,   300] loss: 2.304\n",
      "[2,   350] loss: 2.303\n",
      "[2,   400] loss: 2.303\n",
      "[2,   450] loss: 2.303\n",
      "[2,   500] loss: 2.304\n",
      "[2,   550] loss: 2.304\n",
      "[2,   600] loss: 2.303\n",
      "[2,   650] loss: 2.303\n",
      "[2,   700] loss: 2.303\n",
      "[2,   750] loss: 2.303\n",
      "===> Epoch 2 Complete: Train Avg. Loss: 0.0942\n",
      "===> Epoch 2 Complete: Test Avg. Loss: 2.3028\n",
      "Accuracy of the network on the 10000 test images: 10 %\n",
      "Finished Training\n"
     ]
    }
   ],
   "source": [
    "# modified model training to keep track of train/val loss\n",
    "n_epochs = 2\n",
    "\n",
    "for epoch in range(n_epochs):\n",
    "    running_loss = 0.0\n",
    "    for i, train_data in enumerate(trainloader, 0):\n",
    "        # get the inputs\n",
    "        inputs, labels = train_data\n",
    "\n",
    "        # zero the parameter gradients\n",
    "        optimizer.zero_grad()\n",
    "\n",
    "        # forward + backward + optimize\n",
    "        outputs = net(inputs)\n",
    "        loss = criterion(outputs, labels)\n",
    "        loss.backward()\n",
    "        optimizer.step()\n",
    "\n",
    "        # print loss per n minibatches\n",
    "        running_loss += loss.item()\n",
    "        if i % 50 == 49:    # print every 50 mini-batches\n",
    "            print('[%d, %5d] loss: %.3f' %\n",
    "                  (epoch + 1, i + 1, running_loss / 50))\n",
    "            running_loss = 0.0\n",
    "    \n",
    "    # keep track of loss in test dataset \n",
    "    correct = 0\n",
    "    total = 0\n",
    "    running_test_loss = 0.0\n",
    "    with torch.no_grad():\n",
    "        for test_data in testloader:\n",
    "            test_images, test_labels = test_data\n",
    "            test_outputs = net(test_images)\n",
    "            test_loss = criterion(test_outputs, test_labels)\n",
    "            running_test_loss += test_loss.item()\n",
    "            _, predicted = torch.max(test_outputs.data, 1)\n",
    "            total += test_labels.size(0)\n",
    "            correct += (predicted == test_labels).sum().item()\n",
    "\n",
    "\n",
    "    \n",
    "    \n",
    "    # for printing average loss every epoch\n",
    "    print(\"===> Epoch {} Complete: Train Avg. Loss: {:.4f}\".format(epoch+1, running_loss / len(trainloader)))\n",
    "    print(\"===> Epoch {} Complete: Test Avg. Loss: {:.4f}\".format(epoch+1, running_test_loss / len(testloader)))\n",
    "    print('Accuracy of the network on the 10000 test images: %d %%' % (100 * correct / total))\n",
    "print('Finished Training')"
   ]
  },
  {
   "cell_type": "code",
   "execution_count": null,
   "metadata": {},
   "outputs": [],
   "source": [
    "len(trainloader)\n",
    "len(testloader)\n",
    "print(loss)\n",
    "print(running_loss)"
   ]
  },
  {
   "cell_type": "code",
   "execution_count": 19,
   "metadata": {},
   "outputs": [
    {
     "name": "stdout",
     "output_type": "stream",
     "text": [
      "Accuracy of the network on the 10000 test images: 10 %\n"
     ]
    }
   ],
   "source": [
    "# testing\n",
    "correct = 0\n",
    "total = 0\n",
    "with torch.no_grad():\n",
    "    for data in testloader:\n",
    "        images, labels = data\n",
    "        outputs = net(images)\n",
    "        _, predicted = torch.max(outputs.data, 1)\n",
    "        total += labels.size(0)\n",
    "        correct += (predicted == labels).sum().item()\n",
    "\n",
    "print('Accuracy of the network on the 10000 test images: %d %%' % (\n",
    "    100 * correct / total))"
   ]
  },
  {
   "cell_type": "code",
   "execution_count": null,
   "metadata": {},
   "outputs": [],
   "source": []
  }
 ],
 "metadata": {
  "kernelspec": {
   "display_name": "Python 3",
   "language": "python",
   "name": "python3"
  },
  "language_info": {
   "codemirror_mode": {
    "name": "ipython",
    "version": 3
   },
   "file_extension": ".py",
   "mimetype": "text/x-python",
   "name": "python",
   "nbconvert_exporter": "python",
   "pygments_lexer": "ipython3",
   "version": "3.6.5"
  }
 },
 "nbformat": 4,
 "nbformat_minor": 2
}
