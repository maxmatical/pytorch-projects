{
 "cells": [
  {
   "cell_type": "code",
   "execution_count": 1,
   "metadata": {},
   "outputs": [],
   "source": [
    "# loading and normalizing cifar10\n",
    "import torch\n",
    "import torchvision\n",
    "import torchvision.transforms as transforms\n",
    "import numpy as np"
   ]
  },
  {
   "cell_type": "code",
   "execution_count": 17,
   "metadata": {},
   "outputs": [
    {
     "name": "stdout",
     "output_type": "stream",
     "text": [
      "(50000, 32, 32, 3)\n",
      "(50000, 1)\n"
     ]
    }
   ],
   "source": [
    "# import cifar10 from keras\n",
    "from keras.datasets import cifar10\n",
    "(x_train, y_train), (x_test, y_test) = cifar10.load_data()\n",
    "\n",
    "type(x_train)\n",
    "type(y_train)\n",
    "\n",
    "print(x_train.shape) # need to conver this to [50000, 3, 32, 32] for torch tensors\n",
    "print(y_train.shape)"
   ]
  },
  {
   "cell_type": "markdown",
   "metadata": {},
   "source": [
    "# add train_val split"
   ]
  },
  {
   "cell_type": "code",
   "execution_count": 18,
   "metadata": {},
   "outputs": [
    {
     "name": "stdout",
     "output_type": "stream",
     "text": [
      "torch.Size([50000, 32, 32, 3])\n",
      "torch.Size([10000, 32, 32, 3])\n",
      "torch.ByteTensor\n",
      "torch.ByteTensor\n"
     ]
    }
   ],
   "source": [
    "# change to torch tensor\n",
    "x_train = torch.from_numpy(x_train)\n",
    "y_train = torch.from_numpy(y_train)\n",
    "x_test = torch.from_numpy(x_test)\n",
    "y_test = torch.from_numpy(y_test)\n",
    "\n",
    "\n",
    "print(x_train.size())\n",
    "print(x_test.size())\n",
    "print(x_train.type())\n",
    "print(y_train.type())"
   ]
  },
  {
   "cell_type": "code",
   "execution_count": 33,
   "metadata": {},
   "outputs": [],
   "source": [
    "#x_train = x_train.type('torch.DoubleTensor')\n",
    "#x_test = x_test.type('torch.DoubleTensor')\n",
    "#y_train = y_train.type('torch.DoubleTensor')\n",
    "#y_test = y_test.type('torch.DoubleTensor')\n",
    "x_train = x_train.float()\n",
    "x_test = x_test.float()\n",
    "#y_train = y_train.long()\n",
    "#y_test = y_test.long()\n",
    "y_train = y_train.squeeze(1) # labels need to be squeezed/unraveled\n",
    "y_test = y_test.squeeze(1)"
   ]
  },
  {
   "cell_type": "code",
   "execution_count": 28,
   "metadata": {},
   "outputs": [
    {
     "name": "stdout",
     "output_type": "stream",
     "text": [
      "tensor([[ 3],\n",
      "        [ 8],\n",
      "        [ 8],\n",
      "        ...,\n",
      "        [ 5],\n",
      "        [ 1],\n",
      "        [ 7]])\n"
     ]
    }
   ],
   "source": [
    "print(y_test)"
   ]
  },
  {
   "cell_type": "code",
   "execution_count": 35,
   "metadata": {},
   "outputs": [
    {
     "name": "stdout",
     "output_type": "stream",
     "text": [
      "torch.Size([50000, 3, 32, 32])\n",
      "torch.Size([10000, 3, 32, 32])\n",
      "torch.Size([50000])\n",
      "torch.Size([10000])\n",
      "torch.FloatTensor\n",
      "torch.FloatTensor\n",
      "torch.LongTensor\n",
      "torch.LongTensor\n"
     ]
    }
   ],
   "source": [
    "# checking shape and type\n",
    "print(x_train.size())\n",
    "print(x_test.size())\n",
    "print(y_train.size())\n",
    "print(y_test.size())\n",
    "print(x_train.type())\n",
    "print(x_test.type())\n",
    "print(y_train.type())\n",
    "print(y_test.type())"
   ]
  },
  {
   "cell_type": "code",
   "execution_count": 21,
   "metadata": {},
   "outputs": [],
   "source": [
    "#reshaping torch tensor\n",
    "x_train = x_train.permute(0,3,1,2)\n",
    "x_test = x_test.permute(0,3,1,2)\n"
   ]
  },
  {
   "cell_type": "code",
   "execution_count": 22,
   "metadata": {},
   "outputs": [
    {
     "name": "stdout",
     "output_type": "stream",
     "text": [
      "torch.Size([50000, 3, 32, 32])\n",
      "torch.Size([10000, 3, 32, 32])\n"
     ]
    }
   ],
   "source": [
    "# check tensor shape\n",
    "# should be [n, channels, x, y]\n",
    "print(x_train.size())\n",
    "print(x_test.size())"
   ]
  },
  {
   "cell_type": "code",
   "execution_count": 36,
   "metadata": {},
   "outputs": [],
   "source": [
    "# change into torch dataset\n",
    "\n",
    "from torch.utils.data import TensorDataset\n",
    "\n",
    "train = TensorDataset(x_train, y_train)\n",
    "\n",
    "test = TensorDataset(x_test, y_test)"
   ]
  },
  {
   "cell_type": "code",
   "execution_count": null,
   "metadata": {},
   "outputs": [],
   "source": []
  },
  {
   "cell_type": "code",
   "execution_count": 37,
   "metadata": {},
   "outputs": [],
   "source": [
    "# setting up a train and test loader\n",
    "trainloader = torch.utils.data.DataLoader(train, batch_size=64, shuffle=True)\n",
    "testloader = torch.utils.data.DataLoader(test, batch_size=64, shuffle=False)\n"
   ]
  },
  {
   "cell_type": "code",
   "execution_count": 62,
   "metadata": {},
   "outputs": [],
   "source": [
    "# creating NN\n",
    "\n",
    "# set zero padding to (k-1)/2 for stride = 1\n",
    "# \n",
    "import torch.nn as nn\n",
    "import torch.nn.functional as F\n",
    "\n",
    "class convnet(nn.Module):\n",
    "    def __init__(self):\n",
    "        super(convnet, self).__init__()\n",
    "        self.conv_block1 = nn.Sequential(\n",
    "                            nn.Conv2d(3, 8, 5, padding=2), # [in-channel, out-channel(# of filters), kernel size (5,5)]\n",
    "                            nn.ReLU(),\n",
    "                            nn.MaxPool2d(2,2)\n",
    "        )\n",
    "        self.conv_block2 = nn.Sequential(\n",
    "                            nn.Conv2d(8, 8, 5, padding = 2), # note that in-channel for the next layer is the same as out-channel from prev conv layer\n",
    "                            nn.ReLU(),\n",
    "                            nn.MaxPool2d(2,2)\n",
    "        )\n",
    "        self.fc1 = nn.Linear(512, 32) # 8*5*5 is flattened 8 filters and 5x5 kernel size\n",
    "        self.dropout = nn.Dropout(0.5)\n",
    "        self.fc2 = nn.Linear(32, 32)\n",
    "        self.fc3 = nn.Linear(32, 10)\n",
    "    def forward(self, x):\n",
    "        x = self.conv_block1(x)\n",
    "        x = self.conv_block2(x)\n",
    "        x = x.view(x.size(0), -1) # flatten\n",
    "        x = F.relu(self.fc1(x))\n",
    "        x = self.dropout(x)\n",
    "        x = F.relu(self.fc2(x))\n",
    "        x = self.dropout(x)\n",
    "        x = self.fc3(x)\n",
    "        return x\n",
    "        \n",
    "net = convnet()"
   ]
  },
  {
   "cell_type": "code",
   "execution_count": 63,
   "metadata": {},
   "outputs": [],
   "source": [
    "# define loss and optimizer\n",
    "import torch.optim as optim\n",
    "\n",
    "criterion = nn.CrossEntropyLoss()\n",
    "optimizer = optim.Adam(net.parameters()) #net.parameters"
   ]
  },
  {
   "cell_type": "code",
   "execution_count": 49,
   "metadata": {},
   "outputs": [
    {
     "name": "stdout",
     "output_type": "stream",
     "text": [
      "[1,    50] loss: 1.666\n",
      "[1,   100] loss: 1.698\n",
      "[1,   150] loss: 1.678\n",
      "[1,   200] loss: 1.680\n",
      "[1,   250] loss: 1.693\n",
      "[1,   300] loss: 1.679\n",
      "[1,   350] loss: 1.676\n",
      "[1,   400] loss: 1.684\n",
      "[1,   450] loss: 1.673\n",
      "[1,   500] loss: 1.688\n",
      "[1,   550] loss: 1.683\n",
      "[1,   600] loss: 1.700\n",
      "[1,   650] loss: 1.691\n",
      "[1,   700] loss: 1.689\n",
      "[1,   750] loss: 1.695\n",
      "===> Epoch 1 Complete: Avg. Loss: 0.0713\n",
      "[2,    50] loss: 1.694\n",
      "[2,   100] loss: 1.663\n",
      "[2,   150] loss: 1.670\n",
      "[2,   200] loss: 1.655\n",
      "[2,   250] loss: 1.668\n",
      "[2,   300] loss: 1.697\n",
      "[2,   350] loss: 1.728\n",
      "[2,   400] loss: 1.690\n",
      "[2,   450] loss: 1.706\n",
      "[2,   500] loss: 1.732\n",
      "[2,   550] loss: 1.670\n",
      "[2,   600] loss: 1.647\n",
      "[2,   650] loss: 1.647\n",
      "[2,   700] loss: 1.695\n",
      "[2,   750] loss: 1.648\n",
      "===> Epoch 2 Complete: Avg. Loss: 0.0693\n",
      "Finished Training\n"
     ]
    }
   ],
   "source": [
    "# model training\n",
    "n_epochs = 2\n",
    "\n",
    "for epoch in range(n_epochs):\n",
    "    running_loss = 0.0\n",
    "    for i, train_data in enumerate(trainloader, 0):\n",
    "        # get the inputs\n",
    "        inputs, labels = train_data\n",
    "\n",
    "        # zero the parameter gradients\n",
    "        optimizer.zero_grad()\n",
    "\n",
    "        # forward + backward + optimize\n",
    "        outputs = net(inputs)\n",
    "        loss = criterion(outputs, labels)\n",
    "        loss.backward()\n",
    "        optimizer.step()\n",
    "\n",
    "        # print loss per n minibatches\n",
    "        running_loss += loss.item()\n",
    "        if i % 50 == 49:    # print every 50 mini-batches\n",
    "            print('[%d, %5d] loss: %.3f' %\n",
    "                  (epoch + 1, i + 1, running_loss / 50))\n",
    "            running_loss = 0.0\n",
    "    \n",
    "    # for printing average loss every epoch\n",
    "    print(\"===> Epoch {} Complete: Avg. Loss: {:.4f}\".format(epoch+1, running_loss / len(trainloader)))\n",
    "print('Finished Training')"
   ]
  },
  {
   "cell_type": "code",
   "execution_count": 64,
   "metadata": {},
   "outputs": [
    {
     "name": "stdout",
     "output_type": "stream",
     "text": [
      "[1,    50] loss: 2.469\n",
      "[1,   100] loss: 2.307\n",
      "[1,   150] loss: 2.305\n",
      "[1,   200] loss: 2.305\n",
      "[1,   250] loss: 2.305\n",
      "[1,   300] loss: 2.305\n",
      "[1,   350] loss: 2.294\n",
      "[1,   400] loss: 2.264\n",
      "[1,   450] loss: 2.245\n",
      "[1,   500] loss: 2.206\n",
      "[1,   550] loss: 2.162\n",
      "[1,   600] loss: 2.114\n",
      "[1,   650] loss: 2.083\n",
      "[1,   700] loss: 2.073\n",
      "[1,   750] loss: 2.076\n",
      "===> Epoch 1 Complete: Train Avg. Loss: 0.0826\n",
      "===> Epoch 1 Complete: Test Avg. Loss: 1.9959\n",
      "Accuracy of the network on the 10000 test images: 21 %\n",
      "[2,    50] loss: 2.003\n",
      "[2,   100] loss: 1.975\n",
      "[2,   150] loss: 1.959\n",
      "[2,   200] loss: 1.975\n",
      "[2,   250] loss: 1.920\n",
      "[2,   300] loss: 1.958\n",
      "[2,   350] loss: 1.953\n",
      "[2,   400] loss: 1.924\n",
      "[2,   450] loss: 1.898\n",
      "[2,   500] loss: 1.901\n",
      "[2,   550] loss: 1.857\n",
      "[2,   600] loss: 1.882\n",
      "[2,   650] loss: 1.913\n",
      "[2,   700] loss: 1.879\n",
      "[2,   750] loss: 1.883\n",
      "===> Epoch 2 Complete: Train Avg. Loss: 0.0758\n",
      "===> Epoch 2 Complete: Test Avg. Loss: 1.8644\n",
      "Accuracy of the network on the 10000 test images: 27 %\n",
      "Finished Training\n"
     ]
    }
   ],
   "source": [
    "# modified model training to keep track of train/val loss\n",
    "n_epochs = 2\n",
    "\n",
    "for epoch in range(n_epochs):\n",
    "    running_loss = 0.0\n",
    "    for i, train_data in enumerate(trainloader, 0):\n",
    "        # get the inputs\n",
    "        inputs, labels = train_data\n",
    "\n",
    "        # zero the parameter gradients\n",
    "        optimizer.zero_grad()\n",
    "\n",
    "        # forward + backward + optimize\n",
    "        outputs = net(inputs)\n",
    "        loss = criterion(outputs, labels)\n",
    "        loss.backward()\n",
    "        optimizer.step()\n",
    "\n",
    "        # print loss per n minibatches\n",
    "        running_loss += loss.item()\n",
    "        if i % 50 == 49:    # print every 50 mini-batches\n",
    "            print('[%d, %5d] loss: %.3f' %\n",
    "                  (epoch + 1, i + 1, running_loss / 50))\n",
    "            running_loss = 0.0\n",
    "    \n",
    "    # keep track of loss in test dataset \n",
    "    correct = 0\n",
    "    total = 0\n",
    "    running_test_loss = 0.0\n",
    "    with torch.no_grad():\n",
    "        for test_data in testloader:\n",
    "            test_images, test_labels = test_data\n",
    "            test_outputs = net(test_images)\n",
    "            test_loss = criterion(test_outputs, test_labels)\n",
    "            running_test_loss += test_loss.item()\n",
    "            _, predicted = torch.max(test_outputs.data, 1)\n",
    "            total += test_labels.size(0)\n",
    "            correct += (predicted == test_labels).sum().item()\n",
    "\n",
    "\n",
    "    \n",
    "    \n",
    "    # for printing average loss every epoch\n",
    "    print(\"===> Epoch {} Complete: Train Avg. Loss: {:.4f}\".format(epoch+1, running_loss / len(trainloader)))\n",
    "    print(\"===> Epoch {} Complete: Test Avg. Loss: {:.4f}\".format(epoch+1, running_test_loss / len(testloader)))\n",
    "    print('Accuracy of the network on the 10000 test images: %d %%' % (100 * correct / total))\n",
    "print('Finished Training')"
   ]
  },
  {
   "cell_type": "code",
   "execution_count": 56,
   "metadata": {},
   "outputs": [
    {
     "name": "stdout",
     "output_type": "stream",
     "text": [
      "tensor(1.4710)\n",
      "11.804136633872986\n"
     ]
    }
   ],
   "source": [
    "len(trainloader)\n",
    "len(testloader)\n",
    "print(loss)\n",
    "print(running_loss)"
   ]
  },
  {
   "cell_type": "code",
   "execution_count": 61,
   "metadata": {},
   "outputs": [
    {
     "name": "stdout",
     "output_type": "stream",
     "text": [
      "Accuracy of the network on the 10000 test images: 38 %\n"
     ]
    }
   ],
   "source": [
    "# testing\n",
    "correct = 0\n",
    "total = 0\n",
    "with torch.no_grad():\n",
    "    for data in testloader:\n",
    "        images, labels = data\n",
    "        outputs = net(images)\n",
    "        _, predicted = torch.max(outputs.data, 1)\n",
    "        total += labels.size(0)\n",
    "        correct += (predicted == labels).sum().item()\n",
    "\n",
    "print('Accuracy of the network on the 10000 test images: %d %%' % (\n",
    "    100 * correct / total))"
   ]
  },
  {
   "cell_type": "code",
   "execution_count": null,
   "metadata": {},
   "outputs": [],
   "source": []
  }
 ],
 "metadata": {
  "kernelspec": {
   "display_name": "Python 3",
   "language": "python",
   "name": "python3"
  },
  "language_info": {
   "codemirror_mode": {
    "name": "ipython",
    "version": 3
   },
   "file_extension": ".py",
   "mimetype": "text/x-python",
   "name": "python",
   "nbconvert_exporter": "python",
   "pygments_lexer": "ipython3",
   "version": "3.6.5"
  }
 },
 "nbformat": 4,
 "nbformat_minor": 2
}
