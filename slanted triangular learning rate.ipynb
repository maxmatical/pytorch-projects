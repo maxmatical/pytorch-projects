{
 "cells": [
  {
   "cell_type": "code",
   "execution_count": 1,
   "metadata": {},
   "outputs": [],
   "source": [
    "import torch\n",
    "import torchvision\n",
    "import torchvision.transforms as transforms\n",
    "import numpy as np\n",
    "\n",
    "import torch.nn as nn\n",
    "import torch.nn.functional as F\n",
    "import math\n",
    "\n",
    "import ipdb\n"
   ]
  },
  {
   "cell_type": "code",
   "execution_count": 2,
   "metadata": {},
   "outputs": [],
   "source": [
    "class BlankModel(nn.Module):\n",
    "    \n",
    "    def __init__(self):\n",
    "        super(BlankModel, self).__init__()\n",
    "        self.fc = nn.Linear(2, 2)\n",
    "        \n",
    "    def foward(self, x):\n",
    "        x = self.fc(x)\n",
    "        return x\n",
    "net = BlankModel()"
   ]
  },
  {
   "cell_type": "code",
   "execution_count": 93,
   "metadata": {},
   "outputs": [],
   "source": [
    "# define loss and optimizer\n",
    "import torch.optim as optim\n",
    "learning_rate = 0.01\n",
    "criterion = nn.CrossEntropyLoss()\n",
    "optimizer = optim.SGD(net.parameters(), lr = learning_rate, momentum=0.9, nesterov= True, weight_decay= 0.01)\n",
    "\n",
    "# defining n_epochs\n",
    "n_epochs = 10"
   ]
  },
  {
   "cell_type": "code",
   "execution_count": 106,
   "metadata": {},
   "outputs": [],
   "source": [
    "class STLR(torch.optim.lr_scheduler._LRScheduler):\n",
    "    def __init__(self, optimizer, lr_max, T, ratio = 32, cut_frac = 0.1,  last_epoch = -1):\n",
    "        # T should be in multiples of 10 as a general rule\n",
    "        self.ratio = ratio\n",
    "        self.cut_frac = cut_frac\n",
    "        self.lr_max = lr_max\n",
    "        self.current_epoch = last_epoch\n",
    "        self.t = self.current_epoch\n",
    "        \n",
    "        self.cut = max(math.floor(T*self.cut_frac),1)\n",
    "        \n",
    "        self.lr_history = []\n",
    "        \n",
    "        super(STLR, self).__init__(optimizer, last_epoch)\n",
    "\n",
    "    def get_lr(self):\n",
    "        #ipdb.set_trace()\n",
    "        if self.t < self.cut:\n",
    "            p = self.t/self.cut\n",
    "        else:\n",
    "            p = 1- ((self.t-self.cut)/(self.cut*(1/self.cut_frac-1)))\n",
    "        \n",
    "        new_lr = [base_lr*(1+p*(self.ratio-1))/self.ratio for base_lr in self.base_lrs]\n",
    "        self.lr_history.append(new_lr) \n",
    "        \n",
    "        return new_lr\n",
    "\n",
    "    def step(self, epoch=None):\n",
    "        if epoch is None:\n",
    "        \n",
    "            epoch = self.last_epoch + 1\n",
    "        self.last_epoch = epoch\n",
    "        self.current_epoch += 1\n",
    "        self.t = self.current_epoch\n",
    "        \n",
    "        for param_group, lr in zip(self.optimizer.param_groups, self.get_lr()):\n",
    "            param_group['lr'] = lr"
   ]
  },
  {
   "cell_type": "code",
   "execution_count": 107,
   "metadata": {},
   "outputs": [],
   "source": [
    "import matplotlib.pyplot as plt\n",
    "%matplotlib inline"
   ]
  },
  {
   "cell_type": "code",
   "execution_count": 108,
   "metadata": {},
   "outputs": [],
   "source": [
    "def simulate_lrs(epochs):\n",
    "    \n",
    "    model = BlankModel()\n",
    "    optimizer = torch.optim.SGD(model.parameters(), lr=learning_rate)\n",
    "    scheduler = STLR(optimizer, lr_max = learning_rate, T = epochs, ratio = 32, cut_frac = 0.1 )\n",
    "\n",
    "    for i in range(epochs):\n",
    "        scheduler.step()\n",
    "        lr = optimizer.param_groups[0]['lr']\n",
    "        print(lr)\n",
    "    \n",
    "    fig, ax = plt.subplots(figsize=(20, 4))\n",
    "    ax.plot([x[0] for x in scheduler.lr_history])\n",
    "    ax.set_yscale(\"log\")\n",
    "    plt.show()"
   ]
  },
  {
   "cell_type": "code",
   "execution_count": 109,
   "metadata": {},
   "outputs": [
    {
     "name": "stdout",
     "output_type": "stream",
     "text": [
      "0.01\n",
      "0.009461805555555557\n",
      "0.008923611111111111\n",
      "0.008385416666666668\n",
      "0.007847222222222222\n",
      "0.007309027777777778\n",
      "0.0067708333333333336\n",
      "0.00623263888888889\n",
      "0.005694444444444445\n",
      "0.00515625\n",
      "0.004618055555555555\n",
      "0.0040798611111111105\n",
      "0.003541666666666667\n",
      "0.003003472222222222\n",
      "0.0024652777777777776\n",
      "0.001927083333333333\n",
      "0.0013888888888888896\n",
      "0.0008506944444444447\n",
      "0.0003125\n",
      "-0.00022569444444444468\n"
     ]
    },
    {
     "data": {
      "image/png": "[encoded data removed]",
      "text/plain": [
       "<Figure size 1440x288 with 1 Axes>"
      ]
     },
     "metadata": {},
     "output_type": "display_data"
    }
   ],
   "source": [
    "simulate_lrs(20)\n"
   ]
  },
  {
   "cell_type": "code",
   "execution_count": null,
   "metadata": {},
   "outputs": [],
   "source": [
    "# LR scheduler\n",
    "# general practice: lr_max = 0.01, T = 10, ratio = 32, cut_frac = 0.1\n",
    "scheduler = STLR(optimizer, lr_max = learning_rate, T = n_epochs, ratio = 32, cut_frac = 0.1 )\n"
   ]
  },
  {
   "cell_type": "code",
   "execution_count": null,
   "metadata": {},
   "outputs": [],
   "source": []
  }
 ],
 "metadata": {
  "kernelspec": {
   "display_name": "Python 3",
   "language": "python",
   "name": "python3"
  },
  "language_info": {
   "codemirror_mode": {
    "name": "ipython",
    "version": 3
   },
   "file_extension": ".py",
   "mimetype": "text/x-python",
   "name": "python",
   "nbconvert_exporter": "python",
   "pygments_lexer": "ipython3",
   "version": "3.6.5"
  }
 },
 "nbformat": 4,
 "nbformat_minor": 2
}
