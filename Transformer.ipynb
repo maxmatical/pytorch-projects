{
  "nbformat": 4,
  "nbformat_minor": 0,
  "metadata": {
    "colab": {
      "name": "Transformer.ipynb",
      "version": "0.3.2",
      "provenance": [],
      "collapsed_sections": [],
      "include_colab_link": true
    },
    "kernelspec": {
      "name": "python3",
      "display_name": "Python 3"
    },
    "accelerator": "GPU"
  },
  "cells": [
    {
      "cell_type": "markdown",
      "metadata": {
        "id": "view-in-github",
        "colab_type": "text"
      },
      "source": [
        "<a href=\"https://colab.research.google.com/github/maxmatical/pytorch-projects/blob/master/Transformer.ipynb\" target=\"_parent\"><img src=\"https://colab.research.google.com/assets/colab-badge.svg\" alt=\"Open In Colab\"/></a>"
      ]
    },
    {
      "cell_type": "markdown",
      "metadata": {
        "id": "b-LMHNpZj0xr",
        "colab_type": "text"
      },
      "source": [
        "Re-implemented from: http://nlp.seas.harvard.edu/2018/04/03/attention.html#model-architecture"
      ]
    },
    {
      "cell_type": "code",
      "metadata": {
        "id": "rhNQwkaxrJA_",
        "colab_type": "code",
        "colab": {}
      },
      "source": [
        "import numpy as np\n",
        "import torch\n",
        "import torch.nn as nn\n",
        "import torch.nn.functional as F\n",
        "import math, copy, time\n",
        "from torch.autograd import Variable\n",
        "import matplotlib.pyplot as plt\n",
        "import seaborn\n",
        "seaborn.set_context(context=\"talk\")\n"
      ],
      "execution_count": 0,
      "outputs": []
    },
    {
      "cell_type": "code",
      "metadata": {
        "id": "q5YM4LYhrOeS",
        "colab_type": "code",
        "colab": {}
      },
      "source": [
        "class Encoder_Decoder(nn.Module):\n",
        "    \"\"\"\n",
        "    Basic encoder-decoder architecture\n",
        "    \n",
        "    Each of encoder and decoder itself is a neural network\n",
        "    \"\"\"\n",
        "    \n",
        "    def __init__(self, encoder, decoder, src_embed, target_embed, generator):\n",
        "        super(Encoder_Decoder, self).__init__()\n",
        "        self.encoder = encoder\n",
        "        self.decoder = decoder\n",
        "        self.src_embed = src_embed\n",
        "        self.target_embed = target_embed\n",
        "        self.generator = generator\n",
        "        \n",
        "        def forward(self, src, target, src_mask, target_mask):\n",
        "            return self.decode(self.encode(src, src_mask), src_mask, target, target_mask)\n",
        "        \n",
        "        def encode(self, src, src_mask):\n",
        "            return self.encoder(self.src_embed(src), src_mask)\n",
        "        \n",
        "        def decode(self, src_mask, target, target_mask):\n",
        "            return self.decoder(self.target_embded(target), memor, src_mask, target_mask)"
      ],
      "execution_count": 0,
      "outputs": []
    },
    {
      "cell_type": "code",
      "metadata": {
        "id": "V6UsiFkRs_NN",
        "colab_type": "code",
        "colab": {}
      },
      "source": [
        "class Generator(nn.Module):\n",
        "    \"\"\"\n",
        "    d_model is the decoder model\n",
        "    vocab is all the words in the corpus\n",
        "    \n",
        "    takes the decoder model and the vocab to generate the next word in the sequence\n",
        "    \"\"\"\n",
        "    def __init__(self, d_model, vocab):\n",
        "        super(Generator, self).__init__()\n",
        "        self.d_model = d_model\n",
        "        self.vocab = vocab\n",
        "        self.project = nn.Linear(self.d_model, self.vocab)\n",
        "    \n",
        "    def forward(self, x):\n",
        "        return F.log_softmax(self.project(x), dim=-1)"
      ],
      "execution_count": 0,
      "outputs": []
    },
    {
      "cell_type": "markdown",
      "metadata": {
        "id": "UJ_of9_GvVe4",
        "colab_type": "text"
      },
      "source": [
        "## Encoder"
      ]
    },
    {
      "cell_type": "code",
      "metadata": {
        "id": "pwRLrqdAvMzS",
        "colab_type": "code",
        "colab": {}
      },
      "source": [
        "def clones(module, N):\n",
        "    \"\"\"\n",
        "    Makes N identical copies of the module\n",
        "    \n",
        "    In the transformer encoder, we make N = 6 copies of the identical layers\n",
        "    \"\"\"\n",
        "    \n",
        "    return nn.ModuleList([copy.deepcopy(module) for _ in range(N)])\n",
        "    "
      ],
      "execution_count": 0,
      "outputs": []
    },
    {
      "cell_type": "code",
      "metadata": {
        "id": "E8pNbo_PvpxN",
        "colab_type": "code",
        "colab": {}
      },
      "source": [
        "class Encoder(nn.Module):\n",
        "    def __init__(self, layer, N):\n",
        "        super(Encoder, self).__init__()\n",
        "        self.layers = clones(layer, N) # layerS\n",
        "        self.norm = LayerNorm(layer.size)\n",
        "        \n",
        "    def forward(self, x, mask):\n",
        "        # runs a foward pass through N layers\n",
        "        for layer in self.layers:\n",
        "            x = layer(x, mask)\n",
        "        return self.norm(x)"
      ],
      "execution_count": 0,
      "outputs": []
    },
    {
      "cell_type": "code",
      "metadata": {
        "id": "MaCBOUS4wNht",
        "colab_type": "code",
        "colab": {}
      },
      "source": [
        "class LayerNorm(nn.Module):\n",
        "    def __init__(self, features, eps = 1e-6):\n",
        "        super(LayerNorm, self).__init__()\n",
        "        self.eps = eps\n",
        "        self.a_2 = nn.Parameter(torch.ones(features)) #alpha\n",
        "        self.a_2 = nn.Parameter(torch.zeros(features)) #bias\n",
        "        \n",
        "    def forward(self, x):\n",
        "        mean = x.mean(-1, keepdim=True)\n",
        "        std = x.std(-1, keepdim=True)\n",
        "        return self.a_2*(x-mean)/(std+self.eps) + self.b2"
      ],
      "execution_count": 0,
      "outputs": []
    },
    {
      "cell_type": "code",
      "metadata": {
        "id": "YkI6MNuM4cyD",
        "colab_type": "code",
        "colab": {}
      },
      "source": [
        "class SublayerConnection(nn.Module):\n",
        "    \"\"\"\n",
        "    residual connection + layer norm\n",
        "    sub-layers are self_attention + posn wise linear layer\n",
        "    \"\"\"\n",
        "    def __init__(self, size, dropout_rate):\n",
        "        super(SublayerConnection, self).__init__()\n",
        "        self.size = size\n",
        "        self.norm = LayerNorm(size)\n",
        "        self.dropout = nn.Dropout(dropout_rate)\n",
        "        \n",
        "    def forward(self, x, sublayer):\n",
        "        return x + self.dropout(sublayer(self.norm(x)))"
      ],
      "execution_count": 0,
      "outputs": []
    },
    {
      "cell_type": "code",
      "metadata": {
        "id": "iE9nWSJA_ld0",
        "colab_type": "code",
        "colab": {}
      },
      "source": [
        "class EncoderLayer(nn.Module):\n",
        "    \"\"\"\n",
        "    self attention + feed forward layer\n",
        "    \"\"\"\n",
        "    def __init__(self, size, self_attn, feed_forward, dropout):\n",
        "        super(EncoderLayer, self).__init__()\n",
        "        self.size = size\n",
        "        self.self_attn = self_attn #defined later\n",
        "        self.feed_forward = feed_forward #defined later\n",
        "        self.sublayer = clones(SublayerConnection(size, dropout), 2)\n",
        "        \n",
        "    def forward(self, x, mask):\n",
        "        x = self.sublayer[0](x, lambda x: self.self_attn(x, x, x, mask)) # apply self attn to x in the first of the sublayers\n",
        "        x = self.sublayer[1](x, self.feed_forward) # applies feed forward layer\n",
        "        return x"
      ],
      "execution_count": 0,
      "outputs": []
    },
    {
      "cell_type": "markdown",
      "metadata": {
        "id": "d3EdXZroESCz",
        "colab_type": "text"
      },
      "source": [
        "## Decoder "
      ]
    },
    {
      "cell_type": "code",
      "metadata": {
        "id": "3BBWFHZ4ETfI",
        "colab_type": "code",
        "colab": {}
      },
      "source": [
        "class Decoder(nn.Module):\n",
        "    \"\"\"\n",
        "    Decoder has 3 sublayers: self attn, feed forard, and multi-head attn over outputs\n",
        "    \n",
        "    \"\"\"\n",
        "    \n",
        "    def __init__(self, layer, N):\n",
        "        super(Decoder, self).__init__()\n",
        "        self.layers = clones(layer, N) # layerS\n",
        "        self.norm = LayerNorm(layer.size)\n",
        "        \n",
        "    def forward(self, x, mask, src_mask, target_mask):\n",
        "        # runs a foward memory through N layers\n",
        "        for layer in self.layers:\n",
        "            x = layer(x, memory, src_mask, target_mask)\n",
        "        return self.norm(x)"
      ],
      "execution_count": 0,
      "outputs": []
    },
    {
      "cell_type": "code",
      "metadata": {
        "id": "6n4wSBgxElC0",
        "colab_type": "code",
        "colab": {}
      },
      "source": [
        "class DecoderLayer(nn.Module):\n",
        "    \"\"\"\n",
        "    Decoder layers: self attn -> src_attn -> feed_forward\n",
        "        \n",
        "    \"\"\"\n",
        "    def __init__(self, size, self_attn, src_attn, feed_forward, dropout):\n",
        "        super(DecoderLayer, self).__init__()\n",
        "        self.size = size\n",
        "        self.self_attn = self_attn\n",
        "        self.src_attn = src_attn\n",
        "        self.feed_forward = feed_forward\n",
        "        self.sublayer = clones(SublayerConnection(size, dropout), 3) #clones 3 SublayerConnections\n",
        "        \n",
        "    def forward(self, x, memory, src_mask, target_mask):\n",
        "        x = self.sublayer[0](x, lambda x: self.self_attn(x, x, x, target_mask))\n",
        "        x = self.sublayer[1](x, lambda x: self.src_attn(x, memory, memory, src_mask))\n",
        "        x = self.sublayer[0](x, self.feed_forward)\n",
        "        return x"
      ],
      "execution_count": 0,
      "outputs": []
    },
    {
      "cell_type": "code",
      "metadata": {
        "id": "72yp6_BiGCYO",
        "colab_type": "code",
        "colab": {}
      },
      "source": [
        "def subsequent_mask(size):\n",
        "    \"\"\"\n",
        "    masking to prevent the attention to look forward in the sequence\n",
        "    \"\"\"\n",
        "    \n",
        "    attn_shape = (1, size, size)\n",
        "    subsequent_mask = np.triu(np.ones(attn_shape), k=1).astype('uint8')\n",
        "    return torch.from_numpy(subsequent_mask) == 0"
      ],
      "execution_count": 0,
      "outputs": []
    },
    {
      "cell_type": "code",
      "metadata": {
        "id": "6wymPFMZMzuP",
        "colab_type": "code",
        "colab": {
          "base_uri": "https://localhost:8080/",
          "height": 342
        },
        "outputId": "cd49e64e-35cd-4541-b33b-36906f16ba17"
      },
      "source": [
        "plt.figure(figsize=(5,5))\n",
        "plt.imshow(subsequent_mask(20)[0])\n",
        "None"
      ],
      "execution_count": 155,
      "outputs": [
        {
          "output_type": "display_data",
          "data": {
            "image/png": "[encoded data removed]",
            "text/plain": [
              "<Figure size 360x360 with 1 Axes>"
            ]
          },
          "metadata": {
            "tags": []
          }
        }
      ]
    },
    {
      "cell_type": "markdown",
      "metadata": {
        "id": "jngl4uGsM_WF",
        "colab_type": "text"
      },
      "source": [
        "## Self Attention"
      ]
    },
    {
      "cell_type": "code",
      "metadata": {
        "id": "HqaZ-pQHM7GY",
        "colab_type": "code",
        "colab": {}
      },
      "source": [
        "def attention(Q, K, V, mask = None, dropout = None):\n",
        "    d_k = Q.size(-1) # computes dimension of Q\n",
        "    score = torch.matmul(Q, Ktranspose(-2, -1))/math.sqrt(d_k)\n",
        "    \n",
        "    if mask is not None:\n",
        "        scores = scores.mask_fill(mask==0, -1e9)\n",
        "        \n",
        "    out = F.softmax(scores, dim = -1)\n",
        "    \n",
        "    if dropout is not None:\n",
        "        out = dropout(out)\n",
        "        \n",
        "    return torch.matmul(out, V), out "
      ],
      "execution_count": 0,
      "outputs": []
    },
    {
      "cell_type": "code",
      "metadata": {
        "id": "uFE3bndFOJc3",
        "colab_type": "code",
        "colab": {}
      },
      "source": [
        "class MultiHeadedAttention(nn.Module):\n",
        "    \"\"\"\n",
        "    h: perform self attention h times, should be 8\n",
        "    d_model: dimension of input into the attention layer. should be 512\n",
        "    s.t. d_model/h = 64 (d_k = 64)\n",
        "    project from d_model (512) to h x d_k space\n",
        "    \n",
        "    \"\"\"\n",
        "    def __init__(self, h, d_model, dropout=0.1):\n",
        "        super(MultiHeadedAttention, self).__init__()\n",
        "        assert d_model %h ==0\n",
        "        # d_v always equal d_k\n",
        "        self.d_k = d_model//h\n",
        "        self.h = h\n",
        "        self.q_linear = nn.Linear(d_model, d_model)\n",
        "        self.v_linear = nn.Linear(d_model, d_model)\n",
        "        self.k_linear = nn.Linear(d_model, d_model)\n",
        "        self.out = nn.Linear(d_model, d_model)\n",
        "        \"\"\"\n",
        "        4 linear layers, one for each of Q, K, V, and out\n",
        "        \"\"\"\n",
        "        self.attn = None\n",
        "        self.dropout = nn.Dropout(p=dropout)\n",
        "        \n",
        "    def forward(self, Q, K, V, mask = None):\n",
        "        if mask is not None:\n",
        "            # apply masking to all h heads\n",
        "            mask = mask.unsqueeze(1)\n",
        "        \n",
        "        bs = Q.size(0)\n",
        "        \n",
        "        # apply linear projection to split into h heads of size (h x d_k)\n",
        "        Q = self.q_linear(Q).view(bs, -1, self.h, self.d_k).transpose(1,2)\n",
        "        K = self.k_linear(K).view(bs, -1, self.h, self.d_k).transpose(1,2)\n",
        "        V = self.v_linear(V).view(bs, -1, self.h, self.d_k).transpose(1,2)\n",
        "        \n",
        "        # apply attetion\n",
        "        scores = attention(Q, K, V, mask = mask, dropout = self.dropout)\n",
        "        \n",
        "        # concatenate and apply linear layer to project back into d_model space\n",
        "        x = scores.transpose(1,2).congiguous()\\\n",
        "                    .view(bs, -1, self.h*self.d_k)\n",
        "        return self.out(x)\n",
        "        \n",
        "        \n",
        "        \n",
        "        "
      ],
      "execution_count": 0,
      "outputs": []
    },
    {
      "cell_type": "code",
      "metadata": {
        "id": "uD2cLDYgm0fC",
        "colab_type": "code",
        "colab": {}
      },
      "source": [
        "class PositionwiseFeedForward(nn.Module):\n",
        "    \"\"\"\n",
        "    d_model = 512\n",
        "    d_ff = 2048\n",
        "    \n",
        "    \"\"\"\n",
        "    \n",
        "    def __init__(self, d_model, d_ff, dropout = 0.1):\n",
        "        super(PositionwiseFeedForward, self).__init__()\n",
        "        self.linear1 = nn.Linear(d_model, d_ff)\n",
        "        self.linear2 = nn.Linear(d_ff, d_model)\n",
        "        self.dropout = nn.Dropout(dropout)\n",
        "\n",
        "    def forward(self, x):\n",
        "        x = self.dropout(F.relu(self.linear1(x)))\n",
        "        x = self.linear2(x)\n",
        "        return x"
      ],
      "execution_count": 0,
      "outputs": []
    },
    {
      "cell_type": "markdown",
      "metadata": {
        "id": "Z4fZkPFBn8Fy",
        "colab_type": "text"
      },
      "source": [
        "## Embedding\n"
      ]
    },
    {
      "cell_type": "code",
      "metadata": {
        "id": "2ijf95ccn0GX",
        "colab_type": "code",
        "colab": {}
      },
      "source": [
        "class Embedding(nn.Module):\n",
        "    \n",
        "    \"\"\"\n",
        "    \n",
        "    Embeds input and output tokens to d_model-dimensional vector space (512)\n",
        "    Multiply the embedding layer by sqrt(d_model)\n",
        "    \n",
        "    \"\"\"\n",
        "    \n",
        "    def __init__(self, d_model, vocab):\n",
        "        super(Embedding, self).__init__()\n",
        "        self.d_model = d_model\n",
        "        self.embed = nn.Embedding(vocab, self.d_model)\n",
        "        \n",
        "    def forward(self, x):\n",
        "        return self.embed(x)*math.sqrt(self.d_model)"
      ],
      "execution_count": 0,
      "outputs": []
    },
    {
      "cell_type": "markdown",
      "metadata": {
        "id": "72X_9U6mc63c",
        "colab_type": "text"
      },
      "source": [
        "## Positional Encoding"
      ]
    },
    {
      "cell_type": "code",
      "metadata": {
        "id": "RzaZd6bwcvMF",
        "colab_type": "code",
        "colab": {}
      },
      "source": [
        "class PositionalEncoding(nn.Module):\n",
        "    \"\"\"\n",
        "    \n",
        "    Use positional encoding to tell the model the position of the token in the sequence\n",
        "    Same dimension as d_model so they can be summed\n",
        "    Use sin/cos functions with different frequencies\n",
        "        \n",
        "    \"\"\"\n",
        "    \n",
        "    def __init__ (self, d_model, dropout, max_len=5000):\n",
        "        super(PositionalEncoding, self).__init__()\n",
        "        self.dropout = nn.Dropout(p=dropout)\n",
        "\n",
        "        pe = torch.zeros(max_len, d_model)\n",
        "        position = torch.arange(0.0, max_len).unsqueeze(1)\n",
        "        div_term = torch.exp(torch.arange(0.0, d_model, 2) *\n",
        "                             -(math.log(10000.0) / d_model))\n",
        "        pe[:, 0::2] = torch.sin(position * div_term)\n",
        "        pe[:, 1::2] = torch.cos(position * div_term)\n",
        "        pe = pe.unsqueeze(0)\n",
        "        self.register_buffer('pe', pe)\n",
        "        \n",
        "    def forward(self, x):\n",
        "        x = x + Variable(self.pe[:, :x.size(1)], \n",
        "                         requires_grad=False)\n",
        "        return self.dropout(x)"
      ],
      "execution_count": 0,
      "outputs": []
    },
    {
      "cell_type": "code",
      "metadata": {
        "id": "RleeuAS_eEvs",
        "colab_type": "code",
        "colab": {
          "base_uri": "https://localhost:8080/",
          "height": 342
        },
        "outputId": "ecc88b3d-3a89-4e0d-f6f7-40da0eadcbe2"
      },
      "source": [
        "plt.figure(figsize=(15, 5))\n",
        "pe = PositionalEncoding(20, 0)\n",
        "y = pe.forward(Variable(torch.zeros(1, 100, 20)))\n",
        "plt.plot(np.arange(100), y[0, :, 4:8].data.numpy())\n",
        "plt.legend([\"dim %d\"%p for p in [4,5,6,7]])\n",
        "None"
      ],
      "execution_count": 161,
      "outputs": [
        {
          "output_type": "display_data",
          "data": {
            "image/png": "[encoded data removed]",
            "text/plain": [
              "<Figure size 1080x360 with 1 Axes>"
            ]
          },
          "metadata": {
            "tags": []
          }
        }
      ]
    },
    {
      "cell_type": "markdown",
      "metadata": {
        "id": "6p6mNNsSe4gC",
        "colab_type": "text"
      },
      "source": [
        "## Model"
      ]
    },
    {
      "cell_type": "code",
      "metadata": {
        "id": "vCHyixZFe5xA",
        "colab_type": "code",
        "colab": {}
      },
      "source": [
        "def make_model(src_vocab, target_vocab, N = 6, d_model = 512, d_ff=2048, h=8, dropout = 0.1):\n",
        "    \"\"\"\n",
        "    \n",
        "    Build the transformer model\n",
        "    src_vocab: dimension(length) of input vocab\n",
        "    N: number of copies of the self attn layer\n",
        "    d_model: number of units in the self attn layer\n",
        "    d_ff: number of units in the ff layer\n",
        "    h: number of heads for multi-headed attn\n",
        "    \"\"\"\n",
        "    \n",
        "    c = copy.deepcopy\n",
        "    attn = MultiHeadedAttention(h, d_model)\n",
        "    ff = PositionwiseFeedForward(d_model, d_ff, dropout)\n",
        "    position = PositionalEncoding(d_model, dropout)\n",
        "    model = Encoder_Decoder(\n",
        "    Encoder(EncoderLayer(d_model, c(attn), c(ff), dropout), N), # make 6 copies of self attn layers for encoder\n",
        "    Decoder(DecoderLayer(d_model, c(attn), c(attn), c(ff), dropout), N),\n",
        "    nn.Sequential(Embedding(d_model, src_vocab,), c(position)),\n",
        "    nn.Sequential(Embedding(d_model, target_vocab), c(position)),\n",
        "    Generator(d_model, target_vocab))\n",
        "    \n",
        "    # initialization of the weights\n",
        "    for p in model.parameters():\n",
        "        if p.dim() > 1:\n",
        "            nn.init.xavier_uniform_(p)\n",
        "    return model\n",
        "                                "
      ],
      "execution_count": 0,
      "outputs": []
    },
    {
      "cell_type": "code",
      "metadata": {
        "id": "uHB0zPnCgXLM",
        "colab_type": "code",
        "colab": {}
      },
      "source": [
        "test_model = make_model(10, 10, 2)"
      ],
      "execution_count": 0,
      "outputs": []
    },
    {
      "cell_type": "code",
      "metadata": {
        "id": "wiFN2eI3gosc",
        "colab_type": "code",
        "colab": {}
      },
      "source": [
        ""
      ],
      "execution_count": 0,
      "outputs": []
    }
  ]
}